{
 "cells": [
  {
   "cell_type": "markdown",
   "metadata": {},
   "source": [
    "## Overall event counts\n",
    "There are a number of obvious problems that are obvious right away from looking at the overall event counts:\n",
    "* Essentially no events of any kind were logged from phone editors.\n",
    "* Large number of visual editor (VE) `init` events with platform `other`, which seem to be misclassified `desktop` events.\n",
    "* Large number of 2017 wikitext editor (2017 WTE) `init` and `ready` events with platform `other`, which are probably misclassified `desktop` events.\n",
    "\n",
    "The 2010 wikitext editor didn't log any `saveIntent` events, but that's intentional, since it doesn't have a corresponding step in the save workflow."
   ]
  },
  {
   "cell_type": "code",
   "execution_count": null,
   "metadata": {},
   "outputs": [],
   "source": [
    "events.pivot_table(\"id\", index=\"action\", columns=[\"editor\", \"platform\"], aggfunc=len, fill_value=0).sort_index()"
   ]
  },
  {
   "cell_type": "markdown",
   "metadata": {},
   "source": [
    "## Phone events\n",
    "The phone events seem to have stopped in late June or early July 2018."
   ]
  },
  {
   "cell_type": "code",
   "execution_count": null,
   "metadata": {},
   "outputs": [],
   "source": [
    "phone = mariadb.run(\"\"\"\n",
    "select\n",
    "    left(timestamp, 6) as month,\n",
    "    sum(event_editor = \"wikitext\") as wikitext_events,\n",
    "    sum(event_editor = \"visualeditor\") as visualeditor_events\n",
    "from log.Edit_17541122\n",
    "where\n",
    "    event_platform = \"phone\"\n",
    "group by left(timestamp, 6)\n",
    "\"\"\", host = \"logs\")"
   ]
  },
  {
   "cell_type": "code",
   "execution_count": null,
   "metadata": {},
   "outputs": [],
   "source": [
    "phone"
   ]
  },
  {
   "cell_type": "markdown",
   "metadata": {},
   "source": [
    "We thought this was fixed by [T202786](https://phabricator.wikimedia.org/T202786), the fix for which started rolling out on 28 August. However, we haven't seen any events start flowing in since."
   ]
  },
  {
   "cell_type": "code",
   "execution_count": null,
   "metadata": {},
   "outputs": [],
   "source": [
    "mariadb.run(\"\"\"\n",
    "select\n",
    "    left(timestamp, 8) as day,\n",
    "    sum(event_platform = \"phone\") as phone_events,\n",
    "    sum(event_platform = \"desktop\") as desktop_events\n",
    "from log.Edit_17541122\n",
    "where\n",
    "    timestamp >= \"20180828\" \n",
    "group by left(timestamp, 8)\n",
    "\"\"\", host=\"logs\")"
   ]
  },
  {
   "cell_type": "markdown",
   "metadata": {},
   "source": [
    "There have been a few recent validation errors, but not nearly enough to account for the roughly 500 000 missing events every month. So it seems like the mobile events are just not getting sent."
   ]
  },
  {
   "cell_type": "code",
   "execution_count": null,
   "metadata": {},
   "outputs": [],
   "source": [
    "edit_errors = hive.run(\"\"\"\n",
    "select\n",
    "    date_format(from_unixtime(timestamp), \"YYYY-MM\") as month,\n",
    "    count(*) as errors\n",
    "from event.eventerror\n",
    "where\n",
    "    year = 2018 and\n",
    "    month >= 5 and\n",
    "    event.schema = \"Edit\"\n",
    "group by date_format(from_unixtime(timestamp), \"YYYY-MM\")\n",
    "\"\"\")\n",
    "\n",
    "edit_errors.sort_values(\"month\").head()"
   ]
  },
  {
   "cell_type": "markdown",
   "metadata": {},
   "source": [
    "If we go back to before the events dropped off, we can also identify any underlying problems in the mobile edit data."
   ]
  },
  {
   "cell_type": "code",
   "execution_count": null,
   "metadata": {},
   "outputs": [],
   "source": [
    "may_phone_r = mariadb.run(\"\"\"\n",
    "select *\n",
    "from log.Edit_17541122\n",
    "where\n",
    "    timestamp between \"201805\" and \"201806\" and\n",
    "    event_platform = \"phone\"\n",
    "\"\"\", host=\"logs\")"
   ]
  },
  {
   "cell_type": "code",
   "execution_count": null,
   "metadata": {},
   "outputs": [],
   "source": [
    "# Output hidden for privacy.\n",
    "may_phone_r.head()"
   ]
  },
  {
   "cell_type": "markdown",
   "metadata": {},
   "source": [
    "* No `loaded` or `saveFailure` events recorded for mobile VE.\n",
    "* No `loaded` events recorded for the mobile WTE.\n",
    "* There are unusually few `abort` events for both mobile editors. On the desktop editors, the combined number of `abort` and `saveAttempt` events roughly match the number of `ready` events, but that isn't the case here. "
   ]
  },
  {
   "cell_type": "code",
   "execution_count": null,
   "metadata": {},
   "outputs": [],
   "source": [
    "may_phone_r.pivot_table(\"id\", index=\"event_action\", columns=\"event_editor\", aggfunc=len, fill_value=0)"
   ]
  },
  {
   "cell_type": "markdown",
   "metadata": {},
   "source": [
    "## Non-logged fields\n",
    "A lot of fields have mostly null values. These all seem to be as expected."
   ]
  },
  {
   "cell_type": "code",
   "execution_count": null,
   "metadata": {},
   "outputs": [],
   "source": [
    "null_prop = lambda ser: ser.isnull().sum() / len(ser) \n",
    "\n",
    "events.apply(null_prop).sort_values(ascending=False).loc[lambda x: x >= 0.1]"
   ]
  },
  {
   "cell_type": "markdown",
   "metadata": {},
   "source": [
    "For example, `inittype` and `initmechanism` only apply to `init` events, but are present for all of them."
   ]
  },
  {
   "cell_type": "code",
   "execution_count": null,
   "metadata": {},
   "outputs": [],
   "source": [
    "inits = events.query(\"action == 'init'\")"
   ]
  },
  {
   "cell_type": "code",
   "execution_count": null,
   "metadata": {},
   "outputs": [],
   "source": [
    "null_prop(inits[\"inittype\"])"
   ]
  },
  {
   "cell_type": "code",
   "execution_count": null,
   "metadata": {},
   "outputs": [],
   "source": [
    "null_prop(inits[\"initmechanism\"])"
   ]
  },
  {
   "cell_type": "markdown",
   "metadata": {},
   "source": [
    "Likewise, the proportion of `ready` events without a `readytiming` value is extremely low."
   ]
  },
  {
   "cell_type": "code",
   "execution_count": null,
   "metadata": {},
   "outputs": [],
   "source": [
    "readies = events.query(\"action == 'ready'\")"
   ]
  },
  {
   "cell_type": "code",
   "execution_count": null,
   "metadata": {},
   "outputs": [],
   "source": [
    "readytiming_null_prop = null_prop(readies[\"readytiming\"])\n",
    "\"{:,.5f}%\".format(readytiming_null_prop * 100)"
   ]
  },
  {
   "cell_type": "markdown",
   "metadata": {},
   "source": [
    "## Number of events by session\n",
    "The distribution of events per session is generally as expected, with one exception:\n",
    "\n",
    "Roughly 3% of sessions have more than 1 `loaded` and `ready` event."
   ]
  },
  {
   "cell_type": "code",
   "execution_count": null,
   "metadata": {},
   "outputs": [],
   "source": [
    "def calc_dist(ser):\n",
    "    bins = [0, 1, 2, 10, 100, 1000]\n",
    "    cut_ser = pd.cut(ser, bins, right=False)\n",
    "    return cut_ser.value_counts(normalize=True).sort_index().apply(\n",
    "        lambda x:\"{:,.2f}%\".format(x * 100)\n",
    "    )\n",
    "\n",
    "action_names = [\"init\", \"loaded\", \"ready\", \"abort\", \"saveIntent\", \"saveAttempt\", \"saveSuccess\", \"saveFailure\"]\n",
    "dists = [calc_dist(sessions[name + \"_count\"]) for name in action_names]\n",
    "pd.concat(dists, axis=1)"
   ]
  },
  {
   "cell_type": "markdown",
   "metadata": {},
   "source": [
    "This is the same 3%; the number of `ready` and `loaded` events in a session are extremely well correlated."
   ]
  },
  {
   "cell_type": "code",
   "execution_count": null,
   "metadata": {},
   "outputs": [],
   "source": [
    "plt.scatter(sessions[\"loaded_count\"], sessions[\"ready_count\"], s=1, alpha=0.25);\n",
    "plt.xlabel(\"number of loaded events\")\n",
    "plt.ylabel(\"number of ready events\");"
   ]
  },
  {
   "cell_type": "markdown",
   "metadata": {},
   "source": [
    "The reason seems to be that sessions frequently feature repeated pairs of `loaded` and `ready` events. 3 of the top 20 session patterns feature at least two `loaded`–`ready` cycles"
   ]
  },
  {
   "cell_type": "code",
   "execution_count": null,
   "metadata": {},
   "outputs": [],
   "source": [
    "pd.DataFrame(sessions[\"actions\"].value_counts()).head(20)"
   ]
  },
  {
   "cell_type": "markdown",
   "metadata": {},
   "source": [
    "## Editor switch sessions\n",
    "There are very few sessions that involve editor switches, because only switches to or from the 2017 wikitext editor (currently in opt-in beta) are actually recorded within a single session. Switching to or from the 2010 wikitext editor involves a page reload and therefore the initiation of an entirely new session."
   ]
  },
  {
   "cell_type": "code",
   "execution_count": null,
   "metadata": {},
   "outputs": [],
   "source": [
    "sessions[\"editor\"].value_counts()"
   ]
  }
 ],
 "metadata": {
  "kernelspec": {
   "display_name": "Python 3",
   "language": "python",
   "name": "python3"
  },
  "language_info": {
   "codemirror_mode": {
    "name": "ipython",
    "version": 3
   },
   "file_extension": ".py",
   "mimetype": "text/x-python",
   "name": "python",
   "nbconvert_exporter": "python",
   "pygments_lexer": "ipython3",
   "version": "3.5.3"
  }
 },
 "nbformat": 4,
 "nbformat_minor": 2
}
