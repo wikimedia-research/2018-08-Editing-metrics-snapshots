{
 "cells": [
  {
   "cell_type": "code",
   "execution_count": 87,
   "metadata": {},
   "outputs": [],
   "source": [
    "import json\n",
    "\n",
    "from wmfdata import charting, mariadb, hive\n",
    "import matplotlib as mpl\n",
    "import matplotlib.pyplot as plt\n",
    "import seaborn as sns\n",
    "import pandas as pd\n",
    "import numpy as np"
   ]
  },
  {
   "cell_type": "code",
   "execution_count": 4,
   "metadata": {},
   "outputs": [],
   "source": [
    "mpl.style.use(charting.mpl_style)"
   ]
  },
  {
   "cell_type": "markdown",
   "metadata": {},
   "source": [
    "# Data wrangling"
   ]
  },
  {
   "cell_type": "markdown",
   "metadata": {},
   "source": [
    "Let's grab a two-week sample of events. Note that these logs are a 6.25% sample of all events, so the absolute numbers need to be multiplied by 16 to get the true estimate of events."
   ]
  },
  {
   "cell_type": "code",
   "execution_count": null,
   "metadata": {},
   "outputs": [],
   "source": [
    "events_r = mariadb.run(\"\"\"\n",
    "select *\n",
    "from log.Edit_17541122\n",
    "where timestamp between \"20180813\" and \"20180827\"\n",
    "\"\"\", host=\"logs\")"
   ]
  },
  {
   "cell_type": "code",
   "execution_count": null,
   "metadata": {},
   "outputs": [],
   "source": [
    "# Hidden from public output for privacy reasons.\n",
    "events_r.head()"
   ]
  },
  {
   "cell_type": "code",
   "execution_count": null,
   "metadata": {},
   "outputs": [],
   "source": [
    "# Shorten the names of the events\n",
    "el_rename = lambda x: x.replace(\"event_\", \"\").replace(\"action.\", \"\").replace(\".\", \"\")\n",
    "events = events_r.rename(columns=el_rename)\n",
    "\n",
    "# Parse the user agent attribute, which is a JSON string\n",
    "parsed_ua = pd.io.json.json_normalize(events[\"userAgent\"].map(json.loads)).add_prefix(\"ua_\")\n",
    "events = pd.concat([events, parsed_ua], axis=1).drop([\"userAgent\"], axis=1)\n",
    "\n",
    "# Make action a categorical variable with a roughly progressive sort order\n",
    "action_names = [\"init\", \"loaded\", \"ready\", \"abort\", \"saveIntent\", \"saveAttempt\", \"saveSuccess\", \"saveFailure\"]\n",
    "events[\"action\"] = pd.Categorical(events[\"action\"], categories=action_names, ordered=True)\n",
    "\n",
    "# Sort the events for chronological display.\n",
    "# If actions have the same timestamp, they'll get sorted by the actions in their custom sort order.\n",
    "events = events.sort_values([\"timestamp\", \"action\"])"
   ]
  },
  {
   "cell_type": "code",
   "execution_count": null,
   "metadata": {},
   "outputs": [],
   "source": [
    "# Show the now lovely dataset. Hidden from public output for privacy reasons.\n",
    "with pd.option_context(\n",
    "    'display.max_rows', 10, \n",
    "    'display.max_columns', None,\n",
    "    'display.max_colwidth', 500,\n",
    "):\n",
    "    display(events)"
   ]
  },
  {
   "cell_type": "markdown",
   "metadata": {},
   "source": [
    "We should also aggregate these into events into sessions."
   ]
  },
  {
   "cell_type": "code",
   "execution_count": null,
   "metadata": {},
   "outputs": [],
   "source": [
    "grouped = events.groupby(\"editingSessionId\", sort=False)\n",
    "\n",
    "def concat_unique(ser):\n",
    "    return \"-\".join(ser.map(str).unique())\n",
    "\n",
    "def my_aggs(grp):\n",
    "    res = {}\n",
    "    \n",
    "    res[\"os_family\"] = concat_unique(grp[\"ua_os_family\"])\n",
    "    res[\"browser_family\"] = concat_unique(grp[\"ua_browser_family\"])\n",
    "    res[\"userid\"] = concat_unique(grp[\"userid\"])\n",
    "    res[\"editor\"] = concat_unique(grp[\"editor\"])\n",
    "    res[\"platform\"] = concat_unique(grp[\"platform\"]) \n",
    "    res[\"ve_pct\"] = ((grp[\"editor\"] == \"visualeditor\").sum() / len(grp))\n",
    "    res[\"actions\"] = \"-\".join(grp[\"action\"])\n",
    "    \n",
    "    return pd.Series(res)\n",
    "\n",
    "action_counts = pd.DataFrame(grouped[\"action\"].apply(lambda x: x.value_counts())).unstack()\n",
    "action_counts.columns = action_counts.columns.droplevel(0)\n",
    "action_counts = action_counts.add_suffix(\"_count\")\n",
    "\n",
    "sessions = action_counts.join(grouped.apply(my_aggs))"
   ]
  },
  {
   "cell_type": "code",
   "execution_count": null,
   "metadata": {},
   "outputs": [],
   "source": [
    "# Hidden from public output for privacy reasons.\n",
    "sessions.head()"
   ]
  },
  {
   "cell_type": "markdown",
   "metadata": {},
   "source": [
    "# Overall event counts"
   ]
  },
  {
   "cell_type": "markdown",
   "metadata": {},
   "source": [
    "There are a number of obvious problems that are obvious right away from looking at the overall event counts:\n",
    "* Essentially no events of any kind were logged from phone editors.\n",
    "* Large number of visual editor (VE) `init` events with platform `other`, which seem to be misclassified `desktop` events.\n",
    "* Large number of 2017 wikitext editor (2017 WTE) `init` and `ready` events with platform `other`, which are probably misclassified `desktop` events \n",
    "* No `init` or `save` events recorded for the desktop wikitext editor (WTE)."
   ]
  },
  {
   "cell_type": "code",
   "execution_count": 17,
   "metadata": {},
   "outputs": [
    {
     "data": {
      "text/html": [
       "<div>\n",
       "<style scoped>\n",
       "    .dataframe tbody tr th:only-of-type {\n",
       "        vertical-align: middle;\n",
       "    }\n",
       "\n",
       "    .dataframe tbody tr th {\n",
       "        vertical-align: top;\n",
       "    }\n",
       "\n",
       "    .dataframe thead tr th {\n",
       "        text-align: left;\n",
       "    }\n",
       "\n",
       "    .dataframe thead tr:last-of-type th {\n",
       "        text-align: right;\n",
       "    }\n",
       "</style>\n",
       "<table border=\"1\" class=\"dataframe\">\n",
       "  <thead>\n",
       "    <tr>\n",
       "      <th>editor</th>\n",
       "      <th colspan=\"2\" halign=\"left\">visualeditor</th>\n",
       "      <th colspan=\"2\" halign=\"left\">wikitext</th>\n",
       "      <th colspan=\"2\" halign=\"left\">wikitext-2017</th>\n",
       "    </tr>\n",
       "    <tr>\n",
       "      <th>platform</th>\n",
       "      <th>desktop</th>\n",
       "      <th>other</th>\n",
       "      <th>desktop</th>\n",
       "      <th>phone</th>\n",
       "      <th>desktop</th>\n",
       "      <th>other</th>\n",
       "    </tr>\n",
       "    <tr>\n",
       "      <th>action</th>\n",
       "      <th></th>\n",
       "      <th></th>\n",
       "      <th></th>\n",
       "      <th></th>\n",
       "      <th></th>\n",
       "      <th></th>\n",
       "    </tr>\n",
       "  </thead>\n",
       "  <tbody>\n",
       "    <tr>\n",
       "      <th>init</th>\n",
       "      <td>2910</td>\n",
       "      <td>93802</td>\n",
       "      <td>0</td>\n",
       "      <td>7</td>\n",
       "      <td>628</td>\n",
       "      <td>3293</td>\n",
       "    </tr>\n",
       "    <tr>\n",
       "      <th>loaded</th>\n",
       "      <td>88727</td>\n",
       "      <td>0</td>\n",
       "      <td>501880</td>\n",
       "      <td>0</td>\n",
       "      <td>3877</td>\n",
       "      <td>0</td>\n",
       "    </tr>\n",
       "    <tr>\n",
       "      <th>ready</th>\n",
       "      <td>88735</td>\n",
       "      <td>0</td>\n",
       "      <td>504538</td>\n",
       "      <td>7</td>\n",
       "      <td>1177</td>\n",
       "      <td>2720</td>\n",
       "    </tr>\n",
       "    <tr>\n",
       "      <th>abort</th>\n",
       "      <td>75736</td>\n",
       "      <td>0</td>\n",
       "      <td>285231</td>\n",
       "      <td>1</td>\n",
       "      <td>1354</td>\n",
       "      <td>0</td>\n",
       "    </tr>\n",
       "    <tr>\n",
       "      <th>saveIntent</th>\n",
       "      <td>13563</td>\n",
       "      <td>0</td>\n",
       "      <td>0</td>\n",
       "      <td>0</td>\n",
       "      <td>3706</td>\n",
       "      <td>0</td>\n",
       "    </tr>\n",
       "    <tr>\n",
       "      <th>saveAttempt</th>\n",
       "      <td>13881</td>\n",
       "      <td>0</td>\n",
       "      <td>0</td>\n",
       "      <td>0</td>\n",
       "      <td>2605</td>\n",
       "      <td>0</td>\n",
       "    </tr>\n",
       "    <tr>\n",
       "      <th>saveSuccess</th>\n",
       "      <td>11411</td>\n",
       "      <td>0</td>\n",
       "      <td>0</td>\n",
       "      <td>0</td>\n",
       "      <td>2535</td>\n",
       "      <td>0</td>\n",
       "    </tr>\n",
       "    <tr>\n",
       "      <th>saveFailure</th>\n",
       "      <td>2631</td>\n",
       "      <td>0</td>\n",
       "      <td>0</td>\n",
       "      <td>0</td>\n",
       "      <td>85</td>\n",
       "      <td>0</td>\n",
       "    </tr>\n",
       "  </tbody>\n",
       "</table>\n",
       "</div>"
      ],
      "text/plain": [
       "editor      visualeditor        wikitext       wikitext-2017      \n",
       "platform         desktop  other  desktop phone       desktop other\n",
       "action                                                            \n",
       "init                2910  93802        0     7           628  3293\n",
       "loaded             88727      0   501880     0          3877     0\n",
       "ready              88735      0   504538     7          1177  2720\n",
       "abort              75736      0   285231     1          1354     0\n",
       "saveIntent         13563      0        0     0          3706     0\n",
       "saveAttempt        13881      0        0     0          2605     0\n",
       "saveSuccess        11411      0        0     0          2535     0\n",
       "saveFailure         2631      0        0     0            85     0"
      ]
     },
     "execution_count": 17,
     "metadata": {},
     "output_type": "execute_result"
    }
   ],
   "source": [
    "events.pivot_table(\"id\", index=\"action\", columns=[\"editor\", \"platform\"], aggfunc=len, fill_value=0).sort_index()"
   ]
  },
  {
   "cell_type": "markdown",
   "metadata": {},
   "source": [
    "The phone events seem to have stopped in late June or early July 2018."
   ]
  },
  {
   "cell_type": "code",
   "execution_count": 74,
   "metadata": {},
   "outputs": [
    {
     "data": {
      "text/html": [
       "<div>\n",
       "<style scoped>\n",
       "    .dataframe tbody tr th:only-of-type {\n",
       "        vertical-align: middle;\n",
       "    }\n",
       "\n",
       "    .dataframe tbody tr th {\n",
       "        vertical-align: top;\n",
       "    }\n",
       "\n",
       "    .dataframe thead th {\n",
       "        text-align: right;\n",
       "    }\n",
       "</style>\n",
       "<table border=\"1\" class=\"dataframe\">\n",
       "  <thead>\n",
       "    <tr style=\"text-align: right;\">\n",
       "      <th></th>\n",
       "      <th>month</th>\n",
       "      <th>wikitext_events</th>\n",
       "      <th>visualeditor_events</th>\n",
       "    </tr>\n",
       "  </thead>\n",
       "  <tbody>\n",
       "    <tr>\n",
       "      <th>0</th>\n",
       "      <td>201712</td>\n",
       "      <td>2037604.0</td>\n",
       "      <td>28271.0</td>\n",
       "    </tr>\n",
       "    <tr>\n",
       "      <th>1</th>\n",
       "      <td>201801</td>\n",
       "      <td>4341238.0</td>\n",
       "      <td>59143.0</td>\n",
       "    </tr>\n",
       "    <tr>\n",
       "      <th>2</th>\n",
       "      <td>201802</td>\n",
       "      <td>3897444.0</td>\n",
       "      <td>53763.0</td>\n",
       "    </tr>\n",
       "    <tr>\n",
       "      <th>3</th>\n",
       "      <td>201803</td>\n",
       "      <td>4220510.0</td>\n",
       "      <td>59607.0</td>\n",
       "    </tr>\n",
       "    <tr>\n",
       "      <th>4</th>\n",
       "      <td>201804</td>\n",
       "      <td>4084998.0</td>\n",
       "      <td>57519.0</td>\n",
       "    </tr>\n",
       "    <tr>\n",
       "      <th>5</th>\n",
       "      <td>201805</td>\n",
       "      <td>4263057.0</td>\n",
       "      <td>49500.0</td>\n",
       "    </tr>\n",
       "    <tr>\n",
       "      <th>6</th>\n",
       "      <td>201806</td>\n",
       "      <td>4170920.0</td>\n",
       "      <td>61958.0</td>\n",
       "    </tr>\n",
       "    <tr>\n",
       "      <th>7</th>\n",
       "      <td>201807</td>\n",
       "      <td>686.0</td>\n",
       "      <td>16.0</td>\n",
       "    </tr>\n",
       "    <tr>\n",
       "      <th>8</th>\n",
       "      <td>201808</td>\n",
       "      <td>68.0</td>\n",
       "      <td>0.0</td>\n",
       "    </tr>\n",
       "  </tbody>\n",
       "</table>\n",
       "</div>"
      ],
      "text/plain": [
       "    month  wikitext_events  visualeditor_events\n",
       "0  201712        2037604.0              28271.0\n",
       "1  201801        4341238.0              59143.0\n",
       "2  201802        3897444.0              53763.0\n",
       "3  201803        4220510.0              59607.0\n",
       "4  201804        4084998.0              57519.0\n",
       "5  201805        4263057.0              49500.0\n",
       "6  201806        4170920.0              61958.0\n",
       "7  201807            686.0                 16.0\n",
       "8  201808             68.0                  0.0"
      ]
     },
     "execution_count": 74,
     "metadata": {},
     "output_type": "execute_result"
    }
   ],
   "source": [
    "phone = mariadb.run(\"\"\"\n",
    "select\n",
    "    left(timestamp, 6) as month,\n",
    "    sum(event_editor = \"wikitext\") as wikitext_events,\n",
    "    sum(event_editor = \"visualeditor\") as visualeditor_events\n",
    "from log.Edit_17541122\n",
    "where\n",
    "    event_platform = \"phone\"\n",
    "group by left(timestamp, 6)\n",
    "\"\"\", host = \"logs\")\n",
    "\n",
    "phone"
   ]
  },
  {
   "cell_type": "markdown",
   "metadata": {},
   "source": [
    "We thought this was fixed by T202786, the fix for which started rolling out on 28 August. However, we haven't seen any events start flowing in since."
   ]
  },
  {
   "cell_type": "code",
   "execution_count": 76,
   "metadata": {},
   "outputs": [
    {
     "data": {
      "text/html": [
       "<div>\n",
       "<style scoped>\n",
       "    .dataframe tbody tr th:only-of-type {\n",
       "        vertical-align: middle;\n",
       "    }\n",
       "\n",
       "    .dataframe tbody tr th {\n",
       "        vertical-align: top;\n",
       "    }\n",
       "\n",
       "    .dataframe thead th {\n",
       "        text-align: right;\n",
       "    }\n",
       "</style>\n",
       "<table border=\"1\" class=\"dataframe\">\n",
       "  <thead>\n",
       "    <tr style=\"text-align: right;\">\n",
       "      <th></th>\n",
       "      <th>day</th>\n",
       "      <th>phone_events</th>\n",
       "      <th>desktop_events</th>\n",
       "    </tr>\n",
       "  </thead>\n",
       "  <tbody>\n",
       "    <tr>\n",
       "      <th>0</th>\n",
       "      <td>20180828</td>\n",
       "      <td>0.0</td>\n",
       "      <td>136741.0</td>\n",
       "    </tr>\n",
       "    <tr>\n",
       "      <th>1</th>\n",
       "      <td>20180829</td>\n",
       "      <td>0.0</td>\n",
       "      <td>129145.0</td>\n",
       "    </tr>\n",
       "    <tr>\n",
       "      <th>2</th>\n",
       "      <td>20180830</td>\n",
       "      <td>2.0</td>\n",
       "      <td>138717.0</td>\n",
       "    </tr>\n",
       "    <tr>\n",
       "      <th>3</th>\n",
       "      <td>20180831</td>\n",
       "      <td>0.0</td>\n",
       "      <td>122732.0</td>\n",
       "    </tr>\n",
       "    <tr>\n",
       "      <th>4</th>\n",
       "      <td>20180901</td>\n",
       "      <td>0.0</td>\n",
       "      <td>62527.0</td>\n",
       "    </tr>\n",
       "    <tr>\n",
       "      <th>5</th>\n",
       "      <td>20180902</td>\n",
       "      <td>0.0</td>\n",
       "      <td>62394.0</td>\n",
       "    </tr>\n",
       "    <tr>\n",
       "      <th>6</th>\n",
       "      <td>20180903</td>\n",
       "      <td>0.0</td>\n",
       "      <td>79667.0</td>\n",
       "    </tr>\n",
       "    <tr>\n",
       "      <th>7</th>\n",
       "      <td>20180904</td>\n",
       "      <td>0.0</td>\n",
       "      <td>79274.0</td>\n",
       "    </tr>\n",
       "    <tr>\n",
       "      <th>8</th>\n",
       "      <td>20180905</td>\n",
       "      <td>0.0</td>\n",
       "      <td>14306.0</td>\n",
       "    </tr>\n",
       "  </tbody>\n",
       "</table>\n",
       "</div>"
      ],
      "text/plain": [
       "        day  phone_events  desktop_events\n",
       "0  20180828           0.0        136741.0\n",
       "1  20180829           0.0        129145.0\n",
       "2  20180830           2.0        138717.0\n",
       "3  20180831           0.0        122732.0\n",
       "4  20180901           0.0         62527.0\n",
       "5  20180902           0.0         62394.0\n",
       "6  20180903           0.0         79667.0\n",
       "7  20180904           0.0         79274.0\n",
       "8  20180905           0.0         14306.0"
      ]
     },
     "execution_count": 76,
     "metadata": {},
     "output_type": "execute_result"
    }
   ],
   "source": [
    "mariadb.run(\"\"\"\n",
    "select\n",
    "    left(timestamp, 8) as day,\n",
    "    sum(event_platform = \"phone\") as phone_events,\n",
    "    sum(event_platform = \"desktop\") as desktop_events\n",
    "from log.Edit_17541122\n",
    "where\n",
    "    timestamp >= \"20180828\" \n",
    "group by left(timestamp, 8)\n",
    "\"\"\", host=\"logs\")"
   ]
  },
  {
   "cell_type": "markdown",
   "metadata": {},
   "source": [
    "There aren't any recent validation errors for Edit events, so it seems like the mobile events are just not getting sent."
   ]
  },
  {
   "cell_type": "code",
   "execution_count": 96,
   "metadata": {},
   "outputs": [],
   "source": [
    "edit_errors = hive.run(\"\"\"\n",
    "select\n",
    "    date_format(from_unixtime(timestamp), \"YYYY-MM\") as month,\n",
    "    count(*) as errors\n",
    "from event.eventerror\n",
    "where\n",
    "    year = 2018 and\n",
    "    month >= 5 and\n",
    "    schema = \"Edit\"\n",
    "group by date_format(from_unixtime(timestamp), \"YYYY-MM\")\n",
    "\"\"\")"
   ]
  },
  {
   "cell_type": "code",
   "execution_count": 97,
   "metadata": {},
   "outputs": [
    {
     "data": {
      "text/html": [
       "<div>\n",
       "<style scoped>\n",
       "    .dataframe tbody tr th:only-of-type {\n",
       "        vertical-align: middle;\n",
       "    }\n",
       "\n",
       "    .dataframe tbody tr th {\n",
       "        vertical-align: top;\n",
       "    }\n",
       "\n",
       "    .dataframe thead th {\n",
       "        text-align: right;\n",
       "    }\n",
       "</style>\n",
       "<table border=\"1\" class=\"dataframe\">\n",
       "  <thead>\n",
       "    <tr style=\"text-align: right;\">\n",
       "      <th></th>\n",
       "      <th>month</th>\n",
       "      <th>errors</th>\n",
       "    </tr>\n",
       "  </thead>\n",
       "  <tbody>\n",
       "  </tbody>\n",
       "</table>\n",
       "</div>"
      ],
      "text/plain": [
       "Empty DataFrame\n",
       "Columns: [month, errors]\n",
       "Index: []"
      ]
     },
     "execution_count": 97,
     "metadata": {},
     "output_type": "execute_result"
    }
   ],
   "source": [
    "edit_errors.head()"
   ]
  },
  {
   "cell_type": "markdown",
   "metadata": {},
   "source": [
    "If we go back to before the events dropped off, we can also identify any underlying problems in the mobile edit data."
   ]
  },
  {
   "cell_type": "code",
   "execution_count": 86,
   "metadata": {},
   "outputs": [],
   "source": [
    "may_phone_r = mariadb.run(\"\"\"\n",
    "select *\n",
    "from log.Edit_17541122\n",
    "where\n",
    "    timestamp between \"201805\" and \"201806\" and\n",
    "    event_platform = \"phone\"\n",
    "\"\"\", host=\"logs\")"
   ]
  },
  {
   "cell_type": "code",
   "execution_count": null,
   "metadata": {},
   "outputs": [],
   "source": [
    "# Output hidden for privacy.\n",
    "may_phone_r.head()"
   ]
  },
  {
   "cell_type": "markdown",
   "metadata": {},
   "source": [
    "* No `loaded` or `saveFailure` events recorded for mobile VE.\n",
    "* No `loaded` events recorded for the mobile WTE.\n",
    "* There are unusually few `abort` events for both mobile editors. On the desktop editors, the combined number of `abort` and `saveAttempt` events roughly match the number of `ready` events, but that isn't the case here. "
   ]
  },
  {
   "cell_type": "code",
   "execution_count": 100,
   "metadata": {},
   "outputs": [
    {
     "data": {
      "text/html": [
       "<div>\n",
       "<style scoped>\n",
       "    .dataframe tbody tr th:only-of-type {\n",
       "        vertical-align: middle;\n",
       "    }\n",
       "\n",
       "    .dataframe tbody tr th {\n",
       "        vertical-align: top;\n",
       "    }\n",
       "\n",
       "    .dataframe thead th {\n",
       "        text-align: right;\n",
       "    }\n",
       "</style>\n",
       "<table border=\"1\" class=\"dataframe\">\n",
       "  <thead>\n",
       "    <tr style=\"text-align: right;\">\n",
       "      <th>event_editor</th>\n",
       "      <th>visualeditor</th>\n",
       "      <th>wikitext</th>\n",
       "    </tr>\n",
       "    <tr>\n",
       "      <th>event_action</th>\n",
       "      <th></th>\n",
       "      <th></th>\n",
       "    </tr>\n",
       "  </thead>\n",
       "  <tbody>\n",
       "    <tr>\n",
       "      <th>abort</th>\n",
       "      <td>1676</td>\n",
       "      <td>286462</td>\n",
       "    </tr>\n",
       "    <tr>\n",
       "      <th>init</th>\n",
       "      <td>14212</td>\n",
       "      <td>1920523</td>\n",
       "    </tr>\n",
       "    <tr>\n",
       "      <th>ready</th>\n",
       "      <td>21491</td>\n",
       "      <td>1865475</td>\n",
       "    </tr>\n",
       "    <tr>\n",
       "      <th>saveAttempt</th>\n",
       "      <td>4396</td>\n",
       "      <td>57891</td>\n",
       "    </tr>\n",
       "    <tr>\n",
       "      <th>saveFailure</th>\n",
       "      <td>0</td>\n",
       "      <td>9632</td>\n",
       "    </tr>\n",
       "    <tr>\n",
       "      <th>saveIntent</th>\n",
       "      <td>4601</td>\n",
       "      <td>75538</td>\n",
       "    </tr>\n",
       "    <tr>\n",
       "      <th>saveSuccess</th>\n",
       "      <td>3124</td>\n",
       "      <td>47536</td>\n",
       "    </tr>\n",
       "  </tbody>\n",
       "</table>\n",
       "</div>"
      ],
      "text/plain": [
       "event_editor  visualeditor  wikitext\n",
       "event_action                        \n",
       "abort                 1676    286462\n",
       "init                 14212   1920523\n",
       "ready                21491   1865475\n",
       "saveAttempt           4396     57891\n",
       "saveFailure              0      9632\n",
       "saveIntent            4601     75538\n",
       "saveSuccess           3124     47536"
      ]
     },
     "execution_count": 100,
     "metadata": {},
     "output_type": "execute_result"
    }
   ],
   "source": [
    "may_phone_r.pivot_table(\"id\", index=\"event_action\", columns=\"event_editor\", aggfunc=len, fill_value=0)"
   ]
  },
  {
   "cell_type": "markdown",
   "metadata": {},
   "source": [
    "# Non-logged fields"
   ]
  },
  {
   "cell_type": "markdown",
   "metadata": {},
   "source": [
    "A lot of fields have mostly null values. These all seem to be as expected."
   ]
  },
  {
   "cell_type": "code",
   "execution_count": 49,
   "metadata": {},
   "outputs": [
    {
     "data": {
      "text/plain": [
       "inittiming            1.000000\n",
       "dt                    1.000000\n",
       "saveFailuremessage    0.999764\n",
       "saveFailuretype       0.998407\n",
       "saveFailuretiming     0.998407\n",
       "saveSuccesstiming     0.991821\n",
       "saveAttempttiming     0.990331\n",
       "saveIntenttiming      0.989872\n",
       "abortmechanism        0.954786\n",
       "inittype              0.940975\n",
       "initmechanism         0.940975\n",
       "ua_os_minor           0.883786\n",
       "aborttiming           0.787500\n",
       "aborttype             0.787499\n",
       "loadedtiming          0.651337\n",
       "readytiming           0.649762\n",
       "userclass             0.345461\n",
       "dtype: float64"
      ]
     },
     "execution_count": 49,
     "metadata": {},
     "output_type": "execute_result"
    }
   ],
   "source": [
    "null_prop = lambda ser: ser.isnull().sum() / len(ser) \n",
    "\n",
    "events.apply(nan_prop).sort_values(ascending=False).loc[lambda x: x >= 0.1]"
   ]
  },
  {
   "cell_type": "markdown",
   "metadata": {},
   "source": [
    "For example, `inittype` and `initmechanism` only apply to `init` events, but are present for all of them."
   ]
  },
  {
   "cell_type": "code",
   "execution_count": 61,
   "metadata": {},
   "outputs": [],
   "source": [
    "inits = events.query(\"action == 'init'\")"
   ]
  },
  {
   "cell_type": "code",
   "execution_count": 71,
   "metadata": {},
   "outputs": [
    {
     "data": {
      "text/plain": [
       "0.0"
      ]
     },
     "execution_count": 71,
     "metadata": {},
     "output_type": "execute_result"
    }
   ],
   "source": [
    "null_prop(inits[\"inittype\"])"
   ]
  },
  {
   "cell_type": "code",
   "execution_count": 73,
   "metadata": {},
   "outputs": [
    {
     "data": {
      "text/plain": [
       "0.0"
      ]
     },
     "execution_count": 73,
     "metadata": {},
     "output_type": "execute_result"
    }
   ],
   "source": [
    "null_prop(inits[\"initmechanism\"])"
   ]
  },
  {
   "cell_type": "markdown",
   "metadata": {},
   "source": [
    "Likewise, the proportion of `ready` events without a `readytiming` value is extremely low."
   ]
  },
  {
   "cell_type": "code",
   "execution_count": 64,
   "metadata": {},
   "outputs": [],
   "source": [
    "readies = events.query(\"action == 'ready'\")"
   ]
  },
  {
   "cell_type": "code",
   "execution_count": 70,
   "metadata": {},
   "outputs": [
    {
     "data": {
      "text/plain": [
       "'0.00117%'"
      ]
     },
     "execution_count": 70,
     "metadata": {},
     "output_type": "execute_result"
    }
   ],
   "source": [
    "readytiming_null_prop = null_prop(readies[\"readytiming\"])\n",
    "\"{:,.5f}%\".format(readytiming_null_prop * 100)"
   ]
  },
  {
   "cell_type": "markdown",
   "metadata": {},
   "source": [
    "# Number of events by session"
   ]
  },
  {
   "cell_type": "markdown",
   "metadata": {},
   "source": [
    "The distribution of events per session is generally as expected, with three exceptions:\n",
    "* 80% of events have no `init`, when all sessions should generally have an init.\n",
    "* Roughly 7% of sessions have more than 1 `loaded`.\n",
    "* Roughly 7% of sessions have more than 1 `ready`."
   ]
  },
  {
   "cell_type": "code",
   "execution_count": 18,
   "metadata": {},
   "outputs": [
    {
     "data": {
      "text/html": [
       "<div>\n",
       "<style scoped>\n",
       "    .dataframe tbody tr th:only-of-type {\n",
       "        vertical-align: middle;\n",
       "    }\n",
       "\n",
       "    .dataframe tbody tr th {\n",
       "        vertical-align: top;\n",
       "    }\n",
       "\n",
       "    .dataframe thead th {\n",
       "        text-align: right;\n",
       "    }\n",
       "</style>\n",
       "<table border=\"1\" class=\"dataframe\">\n",
       "  <thead>\n",
       "    <tr style=\"text-align: right;\">\n",
       "      <th></th>\n",
       "      <th>init_count</th>\n",
       "      <th>loaded_count</th>\n",
       "      <th>ready_count</th>\n",
       "      <th>abort_count</th>\n",
       "      <th>saveIntent_count</th>\n",
       "      <th>saveAttempt_count</th>\n",
       "      <th>saveSuccess_count</th>\n",
       "      <th>saveFailure_count</th>\n",
       "    </tr>\n",
       "  </thead>\n",
       "  <tbody>\n",
       "    <tr>\n",
       "      <th>[0, 1)</th>\n",
       "      <td>80.80%</td>\n",
       "      <td>3.95%</td>\n",
       "      <td>3.46%</td>\n",
       "      <td>31.66%</td>\n",
       "      <td>97.11%</td>\n",
       "      <td>97.23%</td>\n",
       "      <td>97.34%</td>\n",
       "      <td>99.69%</td>\n",
       "    </tr>\n",
       "    <tr>\n",
       "      <th>[1, 2)</th>\n",
       "      <td>19.20%</td>\n",
       "      <td>88.39%</td>\n",
       "      <td>88.86%</td>\n",
       "      <td>67.70%</td>\n",
       "      <td>2.66%</td>\n",
       "      <td>2.55%</td>\n",
       "      <td>2.65%</td>\n",
       "      <td>0.22%</td>\n",
       "    </tr>\n",
       "    <tr>\n",
       "      <th>[2, 10)</th>\n",
       "      <td>0.00%</td>\n",
       "      <td>7.40%</td>\n",
       "      <td>7.41%</td>\n",
       "      <td>0.63%</td>\n",
       "      <td>0.22%</td>\n",
       "      <td>0.22%</td>\n",
       "      <td>0.00%</td>\n",
       "      <td>0.09%</td>\n",
       "    </tr>\n",
       "    <tr>\n",
       "      <th>[10, 100)</th>\n",
       "      <td>0.00%</td>\n",
       "      <td>0.26%</td>\n",
       "      <td>0.26%</td>\n",
       "      <td>0.00%</td>\n",
       "      <td>0.00%</td>\n",
       "      <td>0.00%</td>\n",
       "      <td>0.00%</td>\n",
       "      <td>0.00%</td>\n",
       "    </tr>\n",
       "    <tr>\n",
       "      <th>[100, 1000)</th>\n",
       "      <td>0.00%</td>\n",
       "      <td>0.00%</td>\n",
       "      <td>0.00%</td>\n",
       "      <td>0.00%</td>\n",
       "      <td>0.00%</td>\n",
       "      <td>0.00%</td>\n",
       "      <td>0.00%</td>\n",
       "      <td>0.00%</td>\n",
       "    </tr>\n",
       "  </tbody>\n",
       "</table>\n",
       "</div>"
      ],
      "text/plain": [
       "            init_count loaded_count ready_count abort_count saveIntent_count  \\\n",
       "[0, 1)          80.80%        3.95%       3.46%      31.66%           97.11%   \n",
       "[1, 2)          19.20%       88.39%      88.86%      67.70%            2.66%   \n",
       "[2, 10)          0.00%        7.40%       7.41%       0.63%            0.22%   \n",
       "[10, 100)        0.00%        0.26%       0.26%       0.00%            0.00%   \n",
       "[100, 1000)      0.00%        0.00%       0.00%       0.00%            0.00%   \n",
       "\n",
       "            saveAttempt_count saveSuccess_count saveFailure_count  \n",
       "[0, 1)                 97.23%            97.34%            99.69%  \n",
       "[1, 2)                  2.55%             2.65%             0.22%  \n",
       "[2, 10)                 0.22%             0.00%             0.09%  \n",
       "[10, 100)               0.00%             0.00%             0.00%  \n",
       "[100, 1000)             0.00%             0.00%             0.00%  "
      ]
     },
     "execution_count": 18,
     "metadata": {},
     "output_type": "execute_result"
    }
   ],
   "source": [
    "def calc_dist(ser):\n",
    "    bins = [0, 1, 2, 10, 100, 1000]\n",
    "    cut_ser = pd.cut(ser, bins, right=False)\n",
    "    return cut_ser.value_counts(normalize=True).sort_index().apply(\n",
    "        lambda x:\"{:,.2f}%\".format(x * 100)\n",
    "    )\n",
    "\n",
    "action_names = [\"init\", \"loaded\", \"ready\", \"abort\", \"saveIntent\", \"saveAttempt\", \"saveSuccess\", \"saveFailure\"]\n",
    "dists = [calc_dist(sessions[name + \"_count\"]) for name in action_names]\n",
    "pd.concat(dists, axis=1)"
   ]
  },
  {
   "cell_type": "markdown",
   "metadata": {},
   "source": [
    "The sessions with no `init` mainly come from the (desktop) wikitext editor, which backs up what we see from the overall event counts."
   ]
  },
  {
   "cell_type": "code",
   "execution_count": 19,
   "metadata": {},
   "outputs": [
    {
     "data": {
      "text/plain": [
       "wikitext                      419962\n",
       "visualeditor                    3271\n",
       "wikitext-2017                    276\n",
       "visualeditor-wikitext-2017         2\n",
       "Name: editor, dtype: int64"
      ]
     },
     "execution_count": 19,
     "metadata": {},
     "output_type": "execute_result"
    }
   ],
   "source": [
    "sessions.query(\"init_count == 0\")[\"editor\"].value_counts()"
   ]
  },
  {
   "cell_type": "markdown",
   "metadata": {},
   "source": [
    "The number of `ready` and `loaded` events in a session are extremely well correlated."
   ]
  },
  {
   "cell_type": "code",
   "execution_count": 31,
   "metadata": {},
   "outputs": [
    {
     "data": {
      "image/png": "[encoded data removed]",
      "text/plain": [
       "<Figure size 1008x504 with 1 Axes>"
      ]
     },
     "metadata": {},
     "output_type": "display_data"
    }
   ],
   "source": [
    "plt.scatter(sessions[\"loaded_count\"], sessions[\"ready_count\"], s=1, alpha=0.25);\n",
    "plt.xlabel(\"number of loaded events\")\n",
    "plt.ylabel(\"number of ready events\");"
   ]
  },
  {
   "cell_type": "markdown",
   "metadata": {},
   "source": [
    "The reason seems to that sessions frequently feature repeated pairs of `loaded` and `ready` cycles. Of the top 20 intra-session patterns of actions, 7 of them include at least two pairs."
   ]
  },
  {
   "cell_type": "code",
   "execution_count": 32,
   "metadata": {},
   "outputs": [
    {
     "data": {
      "text/html": [
       "<div>\n",
       "<style scoped>\n",
       "    .dataframe tbody tr th:only-of-type {\n",
       "        vertical-align: middle;\n",
       "    }\n",
       "\n",
       "    .dataframe tbody tr th {\n",
       "        vertical-align: top;\n",
       "    }\n",
       "\n",
       "    .dataframe thead th {\n",
       "        text-align: right;\n",
       "    }\n",
       "</style>\n",
       "<table border=\"1\" class=\"dataframe\">\n",
       "  <thead>\n",
       "    <tr style=\"text-align: right;\">\n",
       "      <th></th>\n",
       "      <th>actions</th>\n",
       "    </tr>\n",
       "  </thead>\n",
       "  <tbody>\n",
       "    <tr>\n",
       "      <th>loaded-ready-abort</th>\n",
       "      <td>236395</td>\n",
       "    </tr>\n",
       "    <tr>\n",
       "      <th>loaded-ready</th>\n",
       "      <td>94571</td>\n",
       "    </tr>\n",
       "    <tr>\n",
       "      <th>init-loaded-ready-abort</th>\n",
       "      <td>70316</td>\n",
       "    </tr>\n",
       "    <tr>\n",
       "      <th>ready-loaded-abort</th>\n",
       "      <td>26431</td>\n",
       "    </tr>\n",
       "    <tr>\n",
       "      <th>loaded-ready-loaded-ready</th>\n",
       "      <td>14920</td>\n",
       "    </tr>\n",
       "    <tr>\n",
       "      <th>ready-loaded</th>\n",
       "      <td>12920</td>\n",
       "    </tr>\n",
       "    <tr>\n",
       "      <th>init-loaded-ready-saveIntent-saveAttempt-saveSuccess</th>\n",
       "      <td>9550</td>\n",
       "    </tr>\n",
       "    <tr>\n",
       "      <th>abort</th>\n",
       "      <td>8044</td>\n",
       "    </tr>\n",
       "    <tr>\n",
       "      <th>init-loaded-ready</th>\n",
       "      <td>7028</td>\n",
       "    </tr>\n",
       "    <tr>\n",
       "      <th>init</th>\n",
       "      <td>5613</td>\n",
       "    </tr>\n",
       "    <tr>\n",
       "      <th>loaded-ready-loaded-ready-loaded-ready</th>\n",
       "      <td>4162</td>\n",
       "    </tr>\n",
       "    <tr>\n",
       "      <th>loaded-ready-loaded-ready-abort</th>\n",
       "      <td>3075</td>\n",
       "    </tr>\n",
       "    <tr>\n",
       "      <th>ready-abort</th>\n",
       "      <td>2451</td>\n",
       "    </tr>\n",
       "    <tr>\n",
       "      <th>init-abort</th>\n",
       "      <td>2315</td>\n",
       "    </tr>\n",
       "    <tr>\n",
       "      <th>loaded-ready-abort-loaded-ready-abort</th>\n",
       "      <td>1964</td>\n",
       "    </tr>\n",
       "    <tr>\n",
       "      <th>loaded-ready-loaded-ready-loaded-ready-loaded-ready</th>\n",
       "      <td>1621</td>\n",
       "    </tr>\n",
       "    <tr>\n",
       "      <th>ready-loaded-loaded-ready</th>\n",
       "      <td>1620</td>\n",
       "    </tr>\n",
       "    <tr>\n",
       "      <th>loaded-ready-ready-loaded</th>\n",
       "      <td>1408</td>\n",
       "    </tr>\n",
       "    <tr>\n",
       "      <th>init-ready-loaded-abort</th>\n",
       "      <td>1250</td>\n",
       "    </tr>\n",
       "    <tr>\n",
       "      <th>saveIntent-saveAttempt-saveSuccess</th>\n",
       "      <td>1056</td>\n",
       "    </tr>\n",
       "  </tbody>\n",
       "</table>\n",
       "</div>"
      ],
      "text/plain": [
       "                                                    actions\n",
       "loaded-ready-abort                                   236395\n",
       "loaded-ready                                          94571\n",
       "init-loaded-ready-abort                               70316\n",
       "ready-loaded-abort                                    26431\n",
       "loaded-ready-loaded-ready                             14920\n",
       "ready-loaded                                          12920\n",
       "init-loaded-ready-saveIntent-saveAttempt-saveSu...     9550\n",
       "abort                                                  8044\n",
       "init-loaded-ready                                      7028\n",
       "init                                                   5613\n",
       "loaded-ready-loaded-ready-loaded-ready                 4162\n",
       "loaded-ready-loaded-ready-abort                        3075\n",
       "ready-abort                                            2451\n",
       "init-abort                                             2315\n",
       "loaded-ready-abort-loaded-ready-abort                  1964\n",
       "loaded-ready-loaded-ready-loaded-ready-loaded-r...     1621\n",
       "ready-loaded-loaded-ready                              1620\n",
       "loaded-ready-ready-loaded                              1408\n",
       "init-ready-loaded-abort                                1250\n",
       "saveIntent-saveAttempt-saveSuccess                     1056"
      ]
     },
     "execution_count": 32,
     "metadata": {},
     "output_type": "execute_result"
    }
   ],
   "source": [
    "pd.DataFrame(sessions[\"actions\"].value_counts()).head(20)"
   ]
  },
  {
   "cell_type": "markdown",
   "metadata": {},
   "source": [
    "# Sessions with inconsistent editors\n",
    "There are a few sessions that switch editors, starting in the visual editor and ending in the 2017 wikitext editor or the reverse..."
   ]
  },
  {
   "cell_type": "code",
   "execution_count": 34,
   "metadata": {},
   "outputs": [
    {
     "data": {
      "text/plain": [
       "visualeditor-wikitext-2017    134\n",
       "wikitext-2017-visualeditor    109\n",
       "Name: editor, dtype: int64"
      ]
     },
     "execution_count": 34,
     "metadata": {},
     "output_type": "execute_result"
    }
   ],
   "source": [
    "sessions.query(\"~ve_pct.isin([0,1])\")[\"editor\"].value_counts()"
   ]
  },
  {
   "cell_type": "markdown",
   "metadata": {},
   "source": [
    "...however, the number is unimportant."
   ]
  },
  {
   "cell_type": "code",
   "execution_count": 35,
   "metadata": {},
   "outputs": [
    {
     "data": {
      "text/plain": [
       "wikitext                      419969\n",
       "visualeditor                   99842\n",
       "wikitext-2017                   4088\n",
       "visualeditor-wikitext-2017       134\n",
       "wikitext-2017-visualeditor       109\n",
       "Name: editor, dtype: int64"
      ]
     },
     "execution_count": 35,
     "metadata": {},
     "output_type": "execute_result"
    }
   ],
   "source": [
    "sessions[\"editor\"].value_counts()"
   ]
  }
 ],
 "metadata": {
  "kernelspec": {
   "display_name": "Python 3",
   "language": "python",
   "name": "python3"
  },
  "language_info": {
   "codemirror_mode": {
    "name": "ipython",
    "version": 3
   },
   "file_extension": ".py",
   "mimetype": "text/x-python",
   "name": "python",
   "nbconvert_exporter": "python",
   "pygments_lexer": "ipython3",
   "version": "3.5.3"
  }
 },
 "nbformat": 4,
 "nbformat_minor": 2
}
