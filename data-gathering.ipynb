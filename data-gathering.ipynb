{
 "cells": [
  {
   "cell_type": "code",
   "execution_count": 2,
   "metadata": {},
   "outputs": [],
   "source": [
    "import matplotlib as mpl\n",
    "import matplotlib.pyplot as plt\n",
    "import numpy as np\n",
    "import pandas as pd\n",
    "from wmfdata import charting, mariadb, hive"
   ]
  },
  {
   "cell_type": "code",
   "execution_count": 3,
   "metadata": {},
   "outputs": [],
   "source": [
    "%matplotlib inline\n",
    "mpl.style.use(charting.mpl_style)"
   ]
  },
  {
   "cell_type": "markdown",
   "metadata": {},
   "source": [
    "The last data problem to be fixed was logging `VisualEditorFeatureUse` events on mobile. That finished rolling out of 7 February, so we can collect 3 full weeks of good data using the range 2019-02-08 ≤ dt < 2019-03-02."
   ]
  },
  {
   "cell_type": "code",
   "execution_count": 4,
   "metadata": {},
   "outputs": [],
   "source": [
    "# Start included, end excluded\n",
    "DATA_START = \"2019-02-08\"\n",
    "DATA_END = \"2019-03-02\"\n",
    "PARTITION_CONDITION = \"year = 2019 and month >= 2\""
   ]
  },
  {
   "cell_type": "markdown",
   "metadata": {},
   "source": [
    "# Events"
   ]
  },
  {
   "cell_type": "code",
   "execution_count": 8,
   "metadata": {},
   "outputs": [],
   "source": [
    "events_r = hive.run(\"\"\"\n",
    "select\n",
    "    event.editing_session_id as editing_session_id,\n",
    "    dt as timestamp,\n",
    "    event.action as action,\n",
    "    coalesce(\n",
    "        event.init_type,\n",
    "        event.save_failure_type,\n",
    "        event.abort_type\n",
    "    ) as type,\n",
    "    coalesce(\n",
    "        event.init_mechanism,\n",
    "        event.abort_mechanism\n",
    "    ) as mechanism,\n",
    "    coalesce(\n",
    "        event.ready_timing, \n",
    "        event.loaded_timing,\n",
    "        event.abort_timing,\n",
    "        event.save_intent_timing,\n",
    "        event.save_attempt_timing,\n",
    "        event.save_failure_timing,\n",
    "        event.save_success_timing\n",
    "    ) as timing\n",
    "from event_sanitized.editattemptstep\n",
    "where\n",
    "    dt between \"{data_start}\" and \"{data_end}\" and\n",
    "    {partition_condition} and \n",
    "    not event.is_oversample\n",
    "\"\"\".format(\n",
    "    data_start=DATA_START,\n",
    "    data_end=DATA_END,\n",
    "    partition_condition=PARTITION_CONDITION\n",
    "))\n",
    "\n",
    "events = events_r.copy()"
   ]
  },
  {
   "cell_type": "code",
   "execution_count": 9,
   "metadata": {},
   "outputs": [
    {
     "name": "stdout",
     "output_type": "stream",
     "text": [
      "<class 'pandas.core.frame.DataFrame'>\n",
      "RangeIndex: 13782557 entries, 0 to 13782556\n",
      "Data columns (total 6 columns):\n",
      "editing_session_id    object\n",
      "timestamp             object\n",
      "action                object\n",
      "type                  object\n",
      "mechanism             object\n",
      "timing                float64\n",
      "dtypes: float64(1), object(5)\n",
      "memory usage: 630.9+ MB\n"
     ]
    }
   ],
   "source": [
    "events.info()\n",
    "events.head()"
   ]
  },
  {
   "cell_type": "code",
   "execution_count": 16,
   "metadata": {},
   "outputs": [],
   "source": [
    "# Make action a categorical variable with a roughly progressive sort order\n",
    "action_names = [\"init\", \"loaded\", \"ready\", \"saveIntent\", \"saveAttempt\", \"saveSuccess\", \"saveFailure\", \"abort\"]\n",
    "\n",
    "events = (\n",
    "    events\n",
    "    .assign(\n",
    "        action=pd.Categorical(events[\"action\"], categories=action_names, ordered=True),\n",
    "        timestamp=pd.to_datetime(events[\"timestamp\"]),\n",
    "        type=pd.Categorical(events[\"type\"]),\n",
    "        mechanism=pd.Categorical(events[\"mechanism\"])\n",
    "    )\n",
    ")"
   ]
  },
  {
   "cell_type": "code",
   "execution_count": 17,
   "metadata": {},
   "outputs": [
    {
     "name": "stdout",
     "output_type": "stream",
     "text": [
      "<class 'pandas.core.frame.DataFrame'>\n",
      "RangeIndex: 13782557 entries, 0 to 13782556\n",
      "Data columns (total 6 columns):\n",
      "editing_session_id    object\n",
      "timestamp             datetime64[ns, UTC]\n",
      "action                category\n",
      "type                  category\n",
      "mechanism             category\n",
      "timing                float64\n",
      "dtypes: category(3), datetime64[ns, UTC](1), float64(1), object(1)\n",
      "memory usage: 354.9+ MB\n"
     ]
    }
   ],
   "source": [
    "events.info()\n",
    "events.head()"
   ]
  },
  {
   "cell_type": "code",
   "execution_count": 19,
   "metadata": {},
   "outputs": [],
   "source": [
    "events.to_parquet(\"data/events.parquet\")"
   ]
  },
  {
   "cell_type": "markdown",
   "metadata": {},
   "source": [
    "# Feature uses"
   ]
  },
  {
   "cell_type": "code",
   "execution_count": 22,
   "metadata": {},
   "outputs": [
    {
     "name": "stdout",
     "output_type": "stream",
     "text": [
      "CPU times: user 10.7 s, sys: 48 ms, total: 10.7 s\n",
      "Wall time: 2min 51s\n"
     ]
    }
   ],
   "source": [
    "%%time\n",
    "feature_uses = hive.run(\"\"\"\n",
    "select\n",
    "    dt as timestamp,\n",
    "    event.editingsessionid as editing_session_id,\n",
    "    event.feature as feature,\n",
    "    event.action as action\n",
    "from event.visualeditorfeatureuse\n",
    "where\n",
    "    dt between \"{data_start}\" and \"{data_end}\" and\n",
    "    {partition_condition}\n",
    "\"\"\".format(\n",
    "    data_start=DATA_START,\n",
    "    data_end=DATA_END,\n",
    "    partition_condition=PARTITION_CONDITION\n",
    ")).assign(\n",
    "    timestamp=lambda df: pd.to_datetime(df[\"timestamp\"]),\n",
    "    feature=lambda df: pd.Categorical(df[\"feature\"]),\n",
    "    action=lambda df: pd.Categorical(df[\"action\"])\n",
    ")"
   ]
  },
  {
   "cell_type": "code",
   "execution_count": 30,
   "metadata": {},
   "outputs": [],
   "source": [
    "feature_uses = (\n",
    "    feature_uses.assign(\n",
    "        timestamp=lambda df: df[\"timestamp\"].dt.tz_convert(None)\n",
    "    )\n",
    ")"
   ]
  },
  {
   "cell_type": "code",
   "execution_count": 38,
   "metadata": {},
   "outputs": [
    {
     "name": "stdout",
     "output_type": "stream",
     "text": [
      "<class 'pandas.core.frame.DataFrame'>\n",
      "RangeIndex: 350913 entries, 0 to 350912\n",
      "Data columns (total 4 columns):\n",
      "timestamp             350913 non-null datetime64[ns]\n",
      "editing_session_id    350913 non-null object\n",
      "feature               350913 non-null category\n",
      "action                350913 non-null category\n",
      "dtypes: category(2), datetime64[ns](1), object(1)\n",
      "memory usage: 6.0+ MB\n"
     ]
    }
   ],
   "source": [
    "feature_uses.head()\n",
    "feature_uses.info()"
   ]
  },
  {
   "cell_type": "code",
   "execution_count": 34,
   "metadata": {},
   "outputs": [],
   "source": [
    "feature_uses.to_parquet(\"data/feature_uses.parquet\")"
   ]
  },
  {
   "cell_type": "markdown",
   "metadata": {},
   "source": [
    "# Sessions"
   ]
  },
  {
   "cell_type": "code",
   "execution_count": 37,
   "metadata": {},
   "outputs": [],
   "source": [
    "sessions_r = hive.run(\"\"\"\n",
    "select\n",
    "    event.editing_session_id as editing_session_id,\n",
    "    wiki,\n",
    "    event.platform as platform,\n",
    "    event.integration as integration,\n",
    "    collect_set(event.editor_interface) as editor,\n",
    "    event.user_class as user_class,\n",
    "    event.page_ns as page_ns,\n",
    "    min(event.user_editcount) as edit_count,\n",
    "    sum(cast(event.action = \"init\" as int)) as init_count,\n",
    "    sum(cast(event.action = \"loaded\" as int)) as loaded_count,\n",
    "    sum(cast(event.action = \"ready\" as int)) as ready_count,\n",
    "    sum(cast(event.action = \"saveIntent\" as int)) as save_intent_count,\n",
    "    sum(cast(event.action = \"saveAttempt\" as int)) as save_attempt_count,\n",
    "    sum(cast(event.action = \"saveSuccess\" as int)) as save_success_count,\n",
    "    sum(cast(event.action = \"abort\" as int)) as abort_count,\n",
    "    max(dt) as max_timestamp,\n",
    "    min(dt) as min_timestamp\n",
    "from event.editattemptstep\n",
    "where\n",
    "    dt between \"{data_start}\" and \"{data_end}\" and\n",
    "    {partition_condition} and \n",
    "    not event.is_oversample\n",
    "group by \n",
    "    event.editing_session_id, \n",
    "    wiki,\n",
    "    event.platform, \n",
    "    event.integration,\n",
    "    event.user_class,\n",
    "    event.page_ns\n",
    "\"\"\".format(\n",
    "    data_start=DATA_START,\n",
    "    data_end=DATA_END,\n",
    "    partition_condition=PARTITION_CONDITION\n",
    "))\n",
    "\n",
    "sessions = sessions_r.copy()"
   ]
  },
  {
   "cell_type": "code",
   "execution_count": 39,
   "metadata": {},
   "outputs": [
    {
     "name": "stdout",
     "output_type": "stream",
     "text": [
      "<class 'pandas.core.frame.DataFrame'>\n",
      "RangeIndex: 5430481 entries, 0 to 5430480\n",
      "Data columns (total 17 columns):\n",
      "editing_session_id    object\n",
      "wiki                  object\n",
      "platform              object\n",
      "integration           object\n",
      "editor                object\n",
      "user_class            object\n",
      "page_ns               int64\n",
      "edit_count            int64\n",
      "init_count            int64\n",
      "loaded_count          int64\n",
      "ready_count           int64\n",
      "save_intent_count     int64\n",
      "save_attempt_count    int64\n",
      "save_success_count    int64\n",
      "abort_count           int64\n",
      "max_timestamp         object\n",
      "min_timestamp         object\n",
      "dtypes: int64(9), object(8)\n",
      "memory usage: 704.3+ MB\n"
     ]
    },
    {
     "data": {
      "text/html": [
       "<div>\n",
       "<style scoped>\n",
       "    .dataframe tbody tr th:only-of-type {\n",
       "        vertical-align: middle;\n",
       "    }\n",
       "\n",
       "    .dataframe tbody tr th {\n",
       "        vertical-align: top;\n",
       "    }\n",
       "\n",
       "    .dataframe thead th {\n",
       "        text-align: right;\n",
       "    }\n",
       "</style>\n",
       "<table border=\"1\" class=\"dataframe\">\n",
       "  <thead>\n",
       "    <tr style=\"text-align: right;\">\n",
       "      <th></th>\n",
       "      <th>editing_session_id</th>\n",
       "      <th>wiki</th>\n",
       "      <th>platform</th>\n",
       "      <th>integration</th>\n",
       "      <th>editor</th>\n",
       "      <th>user_class</th>\n",
       "      <th>page_ns</th>\n",
       "      <th>edit_count</th>\n",
       "      <th>init_count</th>\n",
       "      <th>loaded_count</th>\n",
       "      <th>ready_count</th>\n",
       "      <th>save_intent_count</th>\n",
       "      <th>save_attempt_count</th>\n",
       "      <th>save_success_count</th>\n",
       "      <th>abort_count</th>\n",
       "      <th>max_timestamp</th>\n",
       "      <th>min_timestamp</th>\n",
       "    </tr>\n",
       "  </thead>\n",
       "  <tbody>\n",
       "    <tr>\n",
       "      <th>0</th>\n",
       "      <td>00001f404db876c6789065f799b8c845</td>\n",
       "      <td>kbpwiki</td>\n",
       "      <td>desktop</td>\n",
       "      <td>page</td>\n",
       "      <td>[\"wikitext\"]</td>\n",
       "      <td>IP</td>\n",
       "      <td>0</td>\n",
       "      <td>0</td>\n",
       "      <td>1</td>\n",
       "      <td>0</td>\n",
       "      <td>0</td>\n",
       "      <td>0</td>\n",
       "      <td>0</td>\n",
       "      <td>0</td>\n",
       "      <td>0</td>\n",
       "      <td>2019-03-01T19:25:22Z</td>\n",
       "      <td>2019-03-01T19:25:22Z</td>\n",
       "    </tr>\n",
       "    <tr>\n",
       "      <th>1</th>\n",
       "      <td>000044d09162551a5632ce6e5984a8a5</td>\n",
       "      <td>enwiki</td>\n",
       "      <td>desktop</td>\n",
       "      <td>page</td>\n",
       "      <td>[\"wikitext\"]</td>\n",
       "      <td>None</td>\n",
       "      <td>0</td>\n",
       "      <td>5103</td>\n",
       "      <td>0</td>\n",
       "      <td>3</td>\n",
       "      <td>3</td>\n",
       "      <td>0</td>\n",
       "      <td>1</td>\n",
       "      <td>1</td>\n",
       "      <td>0</td>\n",
       "      <td>2019-02-28T20:32:51Z</td>\n",
       "      <td>2019-02-28T20:30:34Z</td>\n",
       "    </tr>\n",
       "    <tr>\n",
       "      <th>2</th>\n",
       "      <td>00009cb0012114e6612677ac1b4000c2</td>\n",
       "      <td>enwiki</td>\n",
       "      <td>desktop</td>\n",
       "      <td>page</td>\n",
       "      <td>[\"wikitext\"]</td>\n",
       "      <td>IP</td>\n",
       "      <td>0</td>\n",
       "      <td>0</td>\n",
       "      <td>1</td>\n",
       "      <td>0</td>\n",
       "      <td>0</td>\n",
       "      <td>0</td>\n",
       "      <td>0</td>\n",
       "      <td>0</td>\n",
       "      <td>0</td>\n",
       "      <td>2019-02-25T08:44:02Z</td>\n",
       "      <td>2019-02-25T08:44:02Z</td>\n",
       "    </tr>\n",
       "    <tr>\n",
       "      <th>3</th>\n",
       "      <td>0000a5305154a86b70b4d40a1216ed46</td>\n",
       "      <td>kaawiki</td>\n",
       "      <td>desktop</td>\n",
       "      <td>page</td>\n",
       "      <td>[\"wikitext\"]</td>\n",
       "      <td>IP</td>\n",
       "      <td>3</td>\n",
       "      <td>0</td>\n",
       "      <td>1</td>\n",
       "      <td>0</td>\n",
       "      <td>0</td>\n",
       "      <td>0</td>\n",
       "      <td>0</td>\n",
       "      <td>0</td>\n",
       "      <td>0</td>\n",
       "      <td>2019-02-22T17:56:49Z</td>\n",
       "      <td>2019-02-22T17:56:49Z</td>\n",
       "    </tr>\n",
       "    <tr>\n",
       "      <th>4</th>\n",
       "      <td>0000bc70f61bcbb6acdd8e23b04dbf4e</td>\n",
       "      <td>enwiki</td>\n",
       "      <td>desktop</td>\n",
       "      <td>page</td>\n",
       "      <td>[\"wikitext\"]</td>\n",
       "      <td>IP</td>\n",
       "      <td>0</td>\n",
       "      <td>0</td>\n",
       "      <td>1</td>\n",
       "      <td>0</td>\n",
       "      <td>0</td>\n",
       "      <td>0</td>\n",
       "      <td>0</td>\n",
       "      <td>0</td>\n",
       "      <td>0</td>\n",
       "      <td>2019-02-10T16:17:04Z</td>\n",
       "      <td>2019-02-10T16:17:04Z</td>\n",
       "    </tr>\n",
       "  </tbody>\n",
       "</table>\n",
       "</div>"
      ],
      "text/plain": [
       "                 editing_session_id     wiki platform integration  \\\n",
       "0  00001f404db876c6789065f799b8c845  kbpwiki  desktop        page   \n",
       "1  000044d09162551a5632ce6e5984a8a5   enwiki  desktop        page   \n",
       "2  00009cb0012114e6612677ac1b4000c2   enwiki  desktop        page   \n",
       "3  0000a5305154a86b70b4d40a1216ed46  kaawiki  desktop        page   \n",
       "4  0000bc70f61bcbb6acdd8e23b04dbf4e   enwiki  desktop        page   \n",
       "\n",
       "         editor user_class  page_ns  edit_count  init_count  loaded_count  \\\n",
       "0  [\"wikitext\"]         IP        0           0           1             0   \n",
       "1  [\"wikitext\"]       None        0        5103           0             3   \n",
       "2  [\"wikitext\"]         IP        0           0           1             0   \n",
       "3  [\"wikitext\"]         IP        3           0           1             0   \n",
       "4  [\"wikitext\"]         IP        0           0           1             0   \n",
       "\n",
       "   ready_count  save_intent_count  save_attempt_count  save_success_count  \\\n",
       "0            0                  0                   0                   0   \n",
       "1            3                  0                   1                   1   \n",
       "2            0                  0                   0                   0   \n",
       "3            0                  0                   0                   0   \n",
       "4            0                  0                   0                   0   \n",
       "\n",
       "   abort_count         max_timestamp         min_timestamp  \n",
       "0            0  2019-03-01T19:25:22Z  2019-03-01T19:25:22Z  \n",
       "1            0  2019-02-28T20:32:51Z  2019-02-28T20:30:34Z  \n",
       "2            0  2019-02-25T08:44:02Z  2019-02-25T08:44:02Z  \n",
       "3            0  2019-02-22T17:56:49Z  2019-02-22T17:56:49Z  \n",
       "4            0  2019-02-10T16:17:04Z  2019-02-10T16:17:04Z  "
      ]
     },
     "execution_count": 39,
     "metadata": {},
     "output_type": "execute_result"
    }
   ],
   "source": [
    "sessions.info()\n",
    "sessions.head()"
   ]
  },
  {
   "cell_type": "markdown",
   "metadata": {},
   "source": [
    "Let's do some data wrangling!"
   ]
  },
  {
   "cell_type": "markdown",
   "metadata": {},
   "source": [
    "We also have a lot of editors. The data is correct, but we're not interested in most."
   ]
  },
  {
   "cell_type": "code",
   "execution_count": 40,
   "metadata": {},
   "outputs": [
    {
     "data": {
      "text/html": [
       "<div>\n",
       "<style scoped>\n",
       "    .dataframe tbody tr th:only-of-type {\n",
       "        vertical-align: middle;\n",
       "    }\n",
       "\n",
       "    .dataframe tbody tr th {\n",
       "        vertical-align: top;\n",
       "    }\n",
       "\n",
       "    .dataframe thead th {\n",
       "        text-align: right;\n",
       "    }\n",
       "</style>\n",
       "<table border=\"1\" class=\"dataframe\">\n",
       "  <thead>\n",
       "    <tr style=\"text-align: right;\">\n",
       "      <th>platform</th>\n",
       "      <th>desktop</th>\n",
       "      <th>phone</th>\n",
       "    </tr>\n",
       "    <tr>\n",
       "      <th>editor</th>\n",
       "      <th></th>\n",
       "      <th></th>\n",
       "    </tr>\n",
       "  </thead>\n",
       "  <tbody>\n",
       "    <tr>\n",
       "      <th>[\"visualeditor\",\"wikitext\"]</th>\n",
       "      <td>0</td>\n",
       "      <td>4146</td>\n",
       "    </tr>\n",
       "    <tr>\n",
       "      <th>[\"visualeditor\",\"wikitext-2017\"]</th>\n",
       "      <td>266</td>\n",
       "      <td>0</td>\n",
       "    </tr>\n",
       "    <tr>\n",
       "      <th>[\"visualeditor\"]</th>\n",
       "      <td>239030</td>\n",
       "      <td>16935</td>\n",
       "    </tr>\n",
       "    <tr>\n",
       "      <th>[\"wikitext\",\"visualeditor\"]</th>\n",
       "      <td>0</td>\n",
       "      <td>7009</td>\n",
       "    </tr>\n",
       "    <tr>\n",
       "      <th>[\"wikitext\"]</th>\n",
       "      <td>3670965</td>\n",
       "      <td>1481382</td>\n",
       "    </tr>\n",
       "    <tr>\n",
       "      <th>[\"wikitext-2017\",\"visualeditor\"]</th>\n",
       "      <td>304</td>\n",
       "      <td>0</td>\n",
       "    </tr>\n",
       "    <tr>\n",
       "      <th>[\"wikitext-2017\"]</th>\n",
       "      <td>10444</td>\n",
       "      <td>0</td>\n",
       "    </tr>\n",
       "  </tbody>\n",
       "</table>\n",
       "</div>"
      ],
      "text/plain": [
       "platform                          desktop    phone\n",
       "editor                                            \n",
       "[\"visualeditor\",\"wikitext\"]             0     4146\n",
       "[\"visualeditor\",\"wikitext-2017\"]      266        0\n",
       "[\"visualeditor\"]                   239030    16935\n",
       "[\"wikitext\",\"visualeditor\"]             0     7009\n",
       "[\"wikitext\"]                      3670965  1481382\n",
       "[\"wikitext-2017\",\"visualeditor\"]      304        0\n",
       "[\"wikitext-2017\"]                   10444        0"
      ]
     },
     "execution_count": 40,
     "metadata": {},
     "output_type": "execute_result"
    }
   ],
   "source": [
    "pd.pivot_table(\n",
    "    sessions,\n",
    "    values=\"editing_session_id\",\n",
    "    index=\"editor\",\n",
    "    columns=\"platform\",\n",
    "    aggfunc=len,\n",
    "    fill_value=0\n",
    ")"
   ]
  },
  {
   "cell_type": "markdown",
   "metadata": {},
   "source": [
    "The 2017 wikitext editor is a desktop-only opt-in beta feature, and is not widely used. We can remove the sessions that involved it."
   ]
  },
  {
   "cell_type": "code",
   "execution_count": 41,
   "metadata": {},
   "outputs": [],
   "source": [
    "nwe_rows = sessions.query(\"editor.str.contains('wikitext-2017')\").index\n",
    "sessions = sessions.drop(nwe_rows)"
   ]
  },
  {
   "cell_type": "markdown",
   "metadata": {},
   "source": [
    "The phone sessions that mix the visual and wikitext editors are more important, because mobile VE is the focus on this project and we don't want to throw away any data about it. You can't switch between the two mobile editors once you make any changes, so we can treat the last editor in the session as the true editor.\n",
    "\n",
    "While we're at it, let's also convert the array string syntax to something plainer."
   ]
  },
  {
   "cell_type": "code",
   "execution_count": 42,
   "metadata": {},
   "outputs": [],
   "source": [
    "sessions[\"editor\"] = sessions[\"editor\"].replace(to_replace={\n",
    "    '[\"visualeditor\",\"wikitext\"]': \"wikitext\",\n",
    "    '[\"wikitext\",\"visualeditor\"]': \"visualeditor\",\n",
    "    '[\"visualeditor\"]': \"visualeditor\",\n",
    "    '[\"wikitext\"]': \"wikitext\"\n",
    "})"
   ]
  },
  {
   "cell_type": "markdown",
   "metadata": {},
   "source": [
    "Things look a lot simpler now!"
   ]
  },
  {
   "cell_type": "code",
   "execution_count": 43,
   "metadata": {},
   "outputs": [
    {
     "data": {
      "text/html": [
       "<div>\n",
       "<style scoped>\n",
       "    .dataframe tbody tr th:only-of-type {\n",
       "        vertical-align: middle;\n",
       "    }\n",
       "\n",
       "    .dataframe tbody tr th {\n",
       "        vertical-align: top;\n",
       "    }\n",
       "\n",
       "    .dataframe thead th {\n",
       "        text-align: right;\n",
       "    }\n",
       "</style>\n",
       "<table border=\"1\" class=\"dataframe\">\n",
       "  <thead>\n",
       "    <tr style=\"text-align: right;\">\n",
       "      <th>platform</th>\n",
       "      <th>desktop</th>\n",
       "      <th>phone</th>\n",
       "    </tr>\n",
       "    <tr>\n",
       "      <th>editor</th>\n",
       "      <th></th>\n",
       "      <th></th>\n",
       "    </tr>\n",
       "  </thead>\n",
       "  <tbody>\n",
       "    <tr>\n",
       "      <th>visualeditor</th>\n",
       "      <td>239030</td>\n",
       "      <td>23944</td>\n",
       "    </tr>\n",
       "    <tr>\n",
       "      <th>wikitext</th>\n",
       "      <td>3670965</td>\n",
       "      <td>1485528</td>\n",
       "    </tr>\n",
       "  </tbody>\n",
       "</table>\n",
       "</div>"
      ],
      "text/plain": [
       "platform      desktop    phone\n",
       "editor                        \n",
       "visualeditor   239030    23944\n",
       "wikitext      3670965  1485528"
      ]
     },
     "execution_count": 43,
     "metadata": {},
     "output_type": "execute_result"
    }
   ],
   "source": [
    "pd.pivot_table(\n",
    "    sessions,\n",
    "    values=\"editing_session_id\",\n",
    "    index=\"editor\",\n",
    "    columns=\"platform\",\n",
    "    aggfunc=len,\n",
    "    fill_value=0\n",
    ")"
   ]
  },
  {
   "cell_type": "code",
   "execution_count": 44,
   "metadata": {},
   "outputs": [],
   "source": [
    "ec_bins = [0, 1, 10, 100, 1000, np.inf]\n",
    "ec_labels = [\"0 edits (new editor)\", \"1-9 edits\", \"10-99 edits\", \"100-999 edits\", \"1000+ edits\"]\n",
    "\n",
    "binned = pd.cut(sessions[\"edit_count\"], bins=ec_bins, right=False, labels=ec_labels)\n",
    "new_cats = binned.cat.categories.copy().tolist()\n",
    "new_cats.insert(0, \"IP\")\n",
    "\n",
    "# Override edit bin if the class is IP\n",
    "ips = sessions.query(\"user_class == 'IP'\")[\"user_class\"]\n",
    "    \n",
    "# Combine into a categorical\n",
    "combined = ips.combine_first(binned)\n",
    "sessions = (\n",
    "    sessions\n",
    "    .assign(\n",
    "        user_experience=pd.Categorical(combined, categories=new_cats, ordered=True)\n",
    "    ).drop(\n",
    "        [\"user_class\", \"edit_count\"],\n",
    "        axis=1\n",
    "    )\n",
    ")"
   ]
  },
  {
   "cell_type": "code",
   "execution_count": 52,
   "metadata": {},
   "outputs": [],
   "source": [
    "sessions = (\n",
    "    sessions\n",
    "    .assign(\n",
    "        min_timestamp=pd.to_datetime(sessions[\"min_timestamp\"]).dt.tz_localize(None),\n",
    "        max_timestamp=pd.to_datetime(sessions[\"max_timestamp\"]).dt.tz_localize(None),\n",
    "        wiki=pd.Categorical(sessions[\"wiki\"]),\n",
    "        platform=pd.Categorical(sessions[\"platform\"]),\n",
    "        integration=pd.Categorical(sessions[\"integration\"])\n",
    "    )\n",
    "    .assign(\n",
    "        duration=lambda df: (df[\"max_timestamp\"] - df[\"min_timestamp\"]).dt.total_seconds().astype(\"int64\")\n",
    "    )\n",
    ")"
   ]
  },
  {
   "cell_type": "code",
   "execution_count": 53,
   "metadata": {},
   "outputs": [
    {
     "name": "stdout",
     "output_type": "stream",
     "text": [
      "<class 'pandas.core.frame.DataFrame'>\n",
      "Int64Index: 5419467 entries, 0 to 5430480\n",
      "Data columns (total 17 columns):\n",
      "editing_session_id    object\n",
      "wiki                  category\n",
      "platform              category\n",
      "integration           category\n",
      "editor                object\n",
      "page_ns               int64\n",
      "init_count            int64\n",
      "loaded_count          int64\n",
      "ready_count           int64\n",
      "save_intent_count     int64\n",
      "save_attempt_count    int64\n",
      "save_success_count    int64\n",
      "abort_count           int64\n",
      "max_timestamp         datetime64[ns]\n",
      "min_timestamp         datetime64[ns]\n",
      "user_experience       category\n",
      "duration              int64\n",
      "dtypes: category(4), datetime64[ns](2), int64(9), object(2)\n",
      "memory usage: 604.7+ MB\n"
     ]
    },
    {
     "data": {
      "text/html": [
       "<div>\n",
       "<style scoped>\n",
       "    .dataframe tbody tr th:only-of-type {\n",
       "        vertical-align: middle;\n",
       "    }\n",
       "\n",
       "    .dataframe tbody tr th {\n",
       "        vertical-align: top;\n",
       "    }\n",
       "\n",
       "    .dataframe thead th {\n",
       "        text-align: right;\n",
       "    }\n",
       "</style>\n",
       "<table border=\"1\" class=\"dataframe\">\n",
       "  <thead>\n",
       "    <tr style=\"text-align: right;\">\n",
       "      <th></th>\n",
       "      <th>editing_session_id</th>\n",
       "      <th>wiki</th>\n",
       "      <th>platform</th>\n",
       "      <th>integration</th>\n",
       "      <th>editor</th>\n",
       "      <th>page_ns</th>\n",
       "      <th>init_count</th>\n",
       "      <th>loaded_count</th>\n",
       "      <th>ready_count</th>\n",
       "      <th>save_intent_count</th>\n",
       "      <th>save_attempt_count</th>\n",
       "      <th>save_success_count</th>\n",
       "      <th>abort_count</th>\n",
       "      <th>max_timestamp</th>\n",
       "      <th>min_timestamp</th>\n",
       "      <th>user_experience</th>\n",
       "      <th>duration</th>\n",
       "    </tr>\n",
       "  </thead>\n",
       "  <tbody>\n",
       "    <tr>\n",
       "      <th>0</th>\n",
       "      <td>00001f404db876c6789065f799b8c845</td>\n",
       "      <td>kbpwiki</td>\n",
       "      <td>desktop</td>\n",
       "      <td>page</td>\n",
       "      <td>wikitext</td>\n",
       "      <td>0</td>\n",
       "      <td>1</td>\n",
       "      <td>0</td>\n",
       "      <td>0</td>\n",
       "      <td>0</td>\n",
       "      <td>0</td>\n",
       "      <td>0</td>\n",
       "      <td>0</td>\n",
       "      <td>2019-03-01 19:25:22</td>\n",
       "      <td>2019-03-01 19:25:22</td>\n",
       "      <td>IP</td>\n",
       "      <td>0</td>\n",
       "    </tr>\n",
       "    <tr>\n",
       "      <th>1</th>\n",
       "      <td>000044d09162551a5632ce6e5984a8a5</td>\n",
       "      <td>enwiki</td>\n",
       "      <td>desktop</td>\n",
       "      <td>page</td>\n",
       "      <td>wikitext</td>\n",
       "      <td>0</td>\n",
       "      <td>0</td>\n",
       "      <td>3</td>\n",
       "      <td>3</td>\n",
       "      <td>0</td>\n",
       "      <td>1</td>\n",
       "      <td>1</td>\n",
       "      <td>0</td>\n",
       "      <td>2019-02-28 20:32:51</td>\n",
       "      <td>2019-02-28 20:30:34</td>\n",
       "      <td>1000+ edits</td>\n",
       "      <td>137</td>\n",
       "    </tr>\n",
       "    <tr>\n",
       "      <th>2</th>\n",
       "      <td>00009cb0012114e6612677ac1b4000c2</td>\n",
       "      <td>enwiki</td>\n",
       "      <td>desktop</td>\n",
       "      <td>page</td>\n",
       "      <td>wikitext</td>\n",
       "      <td>0</td>\n",
       "      <td>1</td>\n",
       "      <td>0</td>\n",
       "      <td>0</td>\n",
       "      <td>0</td>\n",
       "      <td>0</td>\n",
       "      <td>0</td>\n",
       "      <td>0</td>\n",
       "      <td>2019-02-25 08:44:02</td>\n",
       "      <td>2019-02-25 08:44:02</td>\n",
       "      <td>IP</td>\n",
       "      <td>0</td>\n",
       "    </tr>\n",
       "    <tr>\n",
       "      <th>3</th>\n",
       "      <td>0000a5305154a86b70b4d40a1216ed46</td>\n",
       "      <td>kaawiki</td>\n",
       "      <td>desktop</td>\n",
       "      <td>page</td>\n",
       "      <td>wikitext</td>\n",
       "      <td>3</td>\n",
       "      <td>1</td>\n",
       "      <td>0</td>\n",
       "      <td>0</td>\n",
       "      <td>0</td>\n",
       "      <td>0</td>\n",
       "      <td>0</td>\n",
       "      <td>0</td>\n",
       "      <td>2019-02-22 17:56:49</td>\n",
       "      <td>2019-02-22 17:56:49</td>\n",
       "      <td>IP</td>\n",
       "      <td>0</td>\n",
       "    </tr>\n",
       "    <tr>\n",
       "      <th>4</th>\n",
       "      <td>0000bc70f61bcbb6acdd8e23b04dbf4e</td>\n",
       "      <td>enwiki</td>\n",
       "      <td>desktop</td>\n",
       "      <td>page</td>\n",
       "      <td>wikitext</td>\n",
       "      <td>0</td>\n",
       "      <td>1</td>\n",
       "      <td>0</td>\n",
       "      <td>0</td>\n",
       "      <td>0</td>\n",
       "      <td>0</td>\n",
       "      <td>0</td>\n",
       "      <td>0</td>\n",
       "      <td>2019-02-10 16:17:04</td>\n",
       "      <td>2019-02-10 16:17:04</td>\n",
       "      <td>IP</td>\n",
       "      <td>0</td>\n",
       "    </tr>\n",
       "  </tbody>\n",
       "</table>\n",
       "</div>"
      ],
      "text/plain": [
       "                 editing_session_id     wiki platform integration    editor  \\\n",
       "0  00001f404db876c6789065f799b8c845  kbpwiki  desktop        page  wikitext   \n",
       "1  000044d09162551a5632ce6e5984a8a5   enwiki  desktop        page  wikitext   \n",
       "2  00009cb0012114e6612677ac1b4000c2   enwiki  desktop        page  wikitext   \n",
       "3  0000a5305154a86b70b4d40a1216ed46  kaawiki  desktop        page  wikitext   \n",
       "4  0000bc70f61bcbb6acdd8e23b04dbf4e   enwiki  desktop        page  wikitext   \n",
       "\n",
       "   page_ns  init_count  loaded_count  ready_count  save_intent_count  \\\n",
       "0        0           1             0            0                  0   \n",
       "1        0           0             3            3                  0   \n",
       "2        0           1             0            0                  0   \n",
       "3        3           1             0            0                  0   \n",
       "4        0           1             0            0                  0   \n",
       "\n",
       "   save_attempt_count  save_success_count  abort_count       max_timestamp  \\\n",
       "0                   0                   0            0 2019-03-01 19:25:22   \n",
       "1                   1                   1            0 2019-02-28 20:32:51   \n",
       "2                   0                   0            0 2019-02-25 08:44:02   \n",
       "3                   0                   0            0 2019-02-22 17:56:49   \n",
       "4                   0                   0            0 2019-02-10 16:17:04   \n",
       "\n",
       "        min_timestamp user_experience  duration  \n",
       "0 2019-03-01 19:25:22              IP         0  \n",
       "1 2019-02-28 20:30:34     1000+ edits       137  \n",
       "2 2019-02-25 08:44:02              IP         0  \n",
       "3 2019-02-22 17:56:49              IP         0  \n",
       "4 2019-02-10 16:17:04              IP         0  "
      ]
     },
     "execution_count": 53,
     "metadata": {},
     "output_type": "execute_result"
    }
   ],
   "source": [
    "sessions.info()\n",
    "sessions.head()"
   ]
  },
  {
   "cell_type": "code",
   "execution_count": 54,
   "metadata": {},
   "outputs": [],
   "source": [
    "sessions.to_parquet(\"data/sessions.parquet\")"
   ]
  },
  {
   "cell_type": "markdown",
   "metadata": {},
   "source": [
    "# Extracting and loading change tags"
   ]
  },
  {
   "cell_type": "code",
   "execution_count": null,
   "metadata": {},
   "outputs": [],
   "source": [
    "# Not taking into account deleted edits!\n",
    "TAG_START = \"201710\"\n",
    "TAG_END = \"201810\"\n",
    "\n",
    "tags = mariadb.multirun(\"\"\"\n",
    "select\n",
    "    database() as wiki,\n",
    "    rev_id,\n",
    "    sum(ct_tag = \"mobile web edit\") as mobile_web,\n",
    "    sum(ct_tag = \"visualeditor\") as visual_editor\n",
    "from change_tag\n",
    "inner join revision\n",
    "on ct_rev_id = rev_id\n",
    "where \n",
    "    ct_tag in (\"mobile web edit\", \"visualeditor\") and\n",
    "    rev_timestamp between \"{start}\" and \"{end}\"\n",
    "group by rev_id\n",
    "\"\"\".format(start=TAG_START, end=TAG_END))"
   ]
  },
  {
   "cell_type": "code",
   "execution_count": null,
   "metadata": {},
   "outputs": [],
   "source": [
    "tags[\"mobile_web\"] = tags[\"mobile_web\"].astype(bool)\n",
    "tags[\"visual_editor\"] = tags[\"visual_editor\"].astype(bool)"
   ]
  },
  {
   "cell_type": "code",
   "execution_count": null,
   "metadata": {},
   "outputs": [],
   "source": [
    "tags.head()"
   ]
  },
  {
   "cell_type": "code",
   "execution_count": null,
   "metadata": {},
   "outputs": [],
   "source": [
    "def compute_editor(row):\n",
    "    if row[\"mobile_web\"]:\n",
    "        if row[\"visual_editor\"]:\n",
    "            return \"mobile visual editor\"\n",
    "        else:\n",
    "            return \"mobile wikitext editor\"\n",
    "    else:\n",
    "        # Edits made with the desktop wikitext editors aren't included in this dateset\n",
    "        return \"desktop visual editor\"\n",
    "        \n",
    "tags[\"editor\"] = tags.apply(compute_editor, axis=1)\n",
    "tags.head()"
   ]
  },
  {
   "cell_type": "code",
   "execution_count": null,
   "metadata": {},
   "outputs": [],
   "source": [
    "tags.drop(\n",
    "    labels=[\"mobile_web\", \"visual_editor\"],\n",
    "    axis=1\n",
    ").to_csv(5\n",
    "    \"data/mob_or_ve_edits.tsv\",\n",
    "    sep=\"\\t\",\n",
    "    index=False,\n",
    "    header=False\n",
    ")"
   ]
  },
  {
   "cell_type": "code",
   "execution_count": null,
   "metadata": {},
   "outputs": [],
   "source": [
    "hive.run(\"\"\"\n",
    "drop table neilpquinn.mob_or_ve_edits\n",
    "\"\"\")"
   ]
  },
  {
   "cell_type": "code",
   "execution_count": null,
   "metadata": {},
   "outputs": [],
   "source": [
    "hive.run(\"\"\"\n",
    "create table neilpquinn.mob_or_ve_edits (\n",
    "    wiki string,\n",
    "    rev_id int,\n",
    "    editor string\n",
    ")\n",
    "row format delimited fields terminated by '\\t'\n",
    "\"\"\")"
   ]
  },
  {
   "cell_type": "code",
   "execution_count": null,
   "metadata": {},
   "outputs": [],
   "source": [
    "!hive -e \"LOAD DATA LOCAL INPATH '/home/neilpquinn-wmf/proj/2018-08-Editing-metrics-snapshots/data/mob_or_ve_edits.tsv' OVERWRITE INTO TABLE neilpquinn.mob_or_ve_edits\""
   ]
  },
  {
   "cell_type": "code",
   "execution_count": null,
   "metadata": {},
   "outputs": [],
   "source": [
    "hive.run(\"select * from neilpquinn.mob_or_ve_edits limit 10\")"
   ]
  },
  {
   "cell_type": "code",
   "execution_count": null,
   "metadata": {},
   "outputs": [],
   "source": [
    "hive.run(\"select count(*) from neilpquinn.mob_or_ve_edits\")"
   ]
  }
 ],
 "metadata": {
  "kernelspec": {
   "display_name": "Python 3",
   "language": "python",
   "name": "python3"
  },
  "language_info": {
   "codemirror_mode": {
    "name": "ipython",
    "version": 3
   },
   "file_extension": ".py",
   "mimetype": "text/x-python",
   "name": "python",
   "nbconvert_exporter": "python",
   "pygments_lexer": "ipython3",
   "version": "3.5.3"
  }
 },
 "nbformat": 4,
 "nbformat_minor": 2
}
