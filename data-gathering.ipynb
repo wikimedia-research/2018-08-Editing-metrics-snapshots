{
 "cells": [
  {
   "cell_type": "code",
   "execution_count": 1,
   "metadata": {},
   "outputs": [
    {
     "name": "stderr",
     "output_type": "stream",
     "text": [
      "You can find the source for `wmfdata` at https://github.com/neilpquinn/wmfdata\n",
      "/usr/lib/python3/dist-packages/joblib/_multiprocessing_helpers.py:28: UserWarning: [Errno 30] Read-only file system.  joblib will operate in serial mode\n",
      "  warnings.warn('%s.  joblib will operate in serial mode' % (e,))\n"
     ]
    }
   ],
   "source": [
    "import json\n",
    "\n",
    "from wmfdata import charting, mariadb, hive\n",
    "import matplotlib as mpl\n",
    "import matplotlib.pyplot as plt\n",
    "import seaborn as sns\n",
    "import pandas as pd\n",
    "import numpy as np"
   ]
  },
  {
   "cell_type": "code",
   "execution_count": 2,
   "metadata": {},
   "outputs": [],
   "source": [
    "mpl.style.use(charting.mpl_style)"
   ]
  },
  {
   "cell_type": "markdown",
   "metadata": {},
   "source": [
    "Let's grab a couple monthly samples of events, one from August and another from May (before events from phone editors stopped being logged). Note that these logs are a 6.25% sample of all events, so the absolute numbers need to be multiplied by 16 to get the true estimate of events.\n",
    "\n",
    "Also, the 2010 wikitext editor has [kept sending events to an old schema version](https://phabricator.wikimedia.org/T203621) even after the schema was updated in December 2017, so we'll have to join the two tables. The [update](https://meta.wikimedia.org/w/index.php?title=Schema%3AEdit&type=revision&diff=17541122&oldid=13457736) involved adding `loaded` as a possible value for `event_action` and a corresponding `event_action.loaded.timing` field."
   ]
  },
  {
   "cell_type": "code",
   "execution_count": 9,
   "metadata": {},
   "outputs": [],
   "source": [
    "# A query to grab events for a specified schema version and timeperiod.\n",
    "events_query = \"\"\"\n",
    "select\n",
    "    timestamp,\n",
    "    userAgent,\n",
    "    wiki,\n",
    "    event_action,\n",
    "    `event_action.abort.mechanism`,\n",
    "    `event_action.abort.timing`,\n",
    "    `event_action.abort.type`,\n",
    "    `event_action.init.mechanism`,\n",
    "    `event_action.init.timing`,\n",
    "    `event_action.init.type`,\n",
    "    null as `event_action.loaded.timing`,\n",
    "    `event_action.ready.timing`,\n",
    "    `event_action.saveAttempt.timing`,\n",
    "    `event_action.saveFailure.message`,\n",
    "    `event_action.saveFailure.timing`,\n",
    "    `event_action.saveFailure.type`,\n",
    "    `event_action.saveIntent.timing`,\n",
    "    `event_action.saveSuccess.timing`,\n",
    "    `event_editingSessionId`,\n",
    "    event_editor,\n",
    "    event_platform,\n",
    "    `event_user.class`,\n",
    "    `event_user.editCount`\n",
    "from log.Edit_13457736\n",
    "where timestamp between \"{start}\" and \"{end}\"\n",
    "\n",
    "union all\n",
    "\n",
    "select\n",
    "    timestamp,\n",
    "    userAgent,\n",
    "    wiki,\n",
    "    event_action,\n",
    "    `event_action.abort.mechanism`,\n",
    "    `event_action.abort.timing`,\n",
    "    `event_action.abort.type`,\n",
    "    `event_action.init.mechanism`,\n",
    "    `event_action.init.timing`,\n",
    "    `event_action.init.type`,\n",
    "    `event_action.loaded.timing`,\n",
    "    `event_action.ready.timing`,\n",
    "    `event_action.saveAttempt.timing`,\n",
    "    `event_action.saveFailure.message`,\n",
    "    `event_action.saveFailure.timing`,\n",
    "    `event_action.saveFailure.type`,\n",
    "    `event_action.saveIntent.timing`,\n",
    "    `event_action.saveSuccess.timing`,\n",
    "    `event_editingSessionId`,\n",
    "    event_editor,\n",
    "    event_platform,\n",
    "    `event_user.class`,\n",
    "    `event_user.editCount`\n",
    "from log.Edit_17541122\n",
    "where timestamp between \"{start}\" and \"{end}\"\n",
    "\"\"\"\n",
    "\n",
    "# Some functions to join two tables of events together and clean them\n",
    "el_rename = lambda x: x.replace(\"event_\", \"\").replace(\"action.\", \"\").replace(\".\", \"_\")\n",
    "\n",
    "def json_try_load(obj):\n",
    "    try:\n",
    "        return json.loads(obj)\n",
    "    except TypeError:\n",
    "        return None\n",
    "\n",
    "def prepare_events(events_1, events_2):\n",
    "    events = pd.concat([events_1, events_1], ignore_index=True, sort=False)\n",
    "    \n",
    "    # Shorten the names of the events\n",
    "    events = events.rename(columns=el_rename)\n",
    "    \n",
    "    # How do we parse UA?\n",
    "\n",
    "    # Make action a categorical variable with a roughly progressive sort order\n",
    "    action_names = [\"init\", \"loaded\", \"ready\", \"saveIntent\", \"saveAttempt\", \"saveSuccess\", \"saveFailure\", \"abort\"]\n",
    "    events[\"action\"] = pd.Categorical(events[\"action\"], categories=action_names, ordered=True)\n",
    "\n",
    "    # Sort the events for chronological display.\n",
    "    # If actions have the same timestamp, they'll get sorted by the actions in their custom sort order.\n",
    "    events = events.sort_values([\"timestamp\", \"action\"])\n",
    "\n",
    "    # Reset the index, which is a mess because of the concatenation\n",
    "    events = events.reset_index(drop=True)\n",
    "\n",
    "    # Some missing values are represented as `None`, others as `NaN`. Make that consistent.\n",
    "    events = events.fillna(value=np.nan)\n",
    "    \n",
    "    return events"
   ]
  },
  {
   "cell_type": "markdown",
   "metadata": {},
   "source": [
    "Let's do this for May first."
   ]
  },
  {
   "cell_type": "code",
   "execution_count": 10,
   "metadata": {},
   "outputs": [
    {
     "ename": "AttributeError",
     "evalue": "'str' object has no attribute 'value_counts'",
     "output_type": "error",
     "traceback": [
      "\u001b[0;31m---------------------------------------------------------------------------\u001b[0m",
      "\u001b[0;31mAttributeError\u001b[0m                            Traceback (most recent call last)",
      "\u001b[0;32m<ipython-input-10-1dbf0edd0899>\u001b[0m in \u001b[0;36m<module>\u001b[0;34m()\u001b[0m\n\u001b[1;32m     10\u001b[0m \u001b[0;34m\u001b[0m\u001b[0m\n\u001b[1;32m     11\u001b[0m \u001b[0mmay_events\u001b[0m \u001b[0;34m=\u001b[0m \u001b[0mprepare_events\u001b[0m\u001b[0;34m(\u001b[0m\u001b[0mmay_events_134\u001b[0m\u001b[0;34m,\u001b[0m \u001b[0mmay_events_175\u001b[0m\u001b[0;34m)\u001b[0m\u001b[0;34m\u001b[0m\u001b[0m\n\u001b[0;32m---> 12\u001b[0;31m \u001b[0mmay_sessions\u001b[0m \u001b[0;34m=\u001b[0m \u001b[0msessionize\u001b[0m\u001b[0;34m(\u001b[0m\u001b[0mmay_events\u001b[0m\u001b[0;34m)\u001b[0m\u001b[0;34m\u001b[0m\u001b[0m\n\u001b[0m\u001b[1;32m     13\u001b[0m \u001b[0;34m\u001b[0m\u001b[0m\n\u001b[1;32m     14\u001b[0m \u001b[0mmay_events\u001b[0m\u001b[0;34m.\u001b[0m\u001b[0mto_csv\u001b[0m\u001b[0;34m(\u001b[0m\u001b[0;34m\"data/may_events.tsv\"\u001b[0m\u001b[0;34m,\u001b[0m \u001b[0msep\u001b[0m\u001b[0;34m=\u001b[0m\u001b[0;34m\"\\t\"\u001b[0m\u001b[0;34m,\u001b[0m \u001b[0mindex\u001b[0m\u001b[0;34m=\u001b[0m\u001b[0;32mFalse\u001b[0m\u001b[0;34m)\u001b[0m\u001b[0;34m\u001b[0m\u001b[0m\n",
      "\u001b[0;32m<ipython-input-9-31e00afb9bba>\u001b[0m in \u001b[0;36msessionize\u001b[0;34m(events_df)\u001b[0m\n\u001b[1;32m     75\u001b[0m \u001b[0;34m\u001b[0m\u001b[0m\n\u001b[1;32m     76\u001b[0m \u001b[0;32mdef\u001b[0m \u001b[0msessionize\u001b[0m\u001b[0;34m(\u001b[0m\u001b[0mevents_df\u001b[0m\u001b[0;34m)\u001b[0m\u001b[0;34m:\u001b[0m\u001b[0;34m\u001b[0m\u001b[0m\n\u001b[0;32m---> 77\u001b[0;31m     \u001b[0maction_counts\u001b[0m \u001b[0;34m=\u001b[0m \u001b[0mpd\u001b[0m\u001b[0;34m.\u001b[0m\u001b[0mDataFrame\u001b[0m\u001b[0;34m(\u001b[0m\u001b[0mevents_df\u001b[0m\u001b[0;34m[\u001b[0m\u001b[0;34m\"action\"\u001b[0m\u001b[0;34m]\u001b[0m\u001b[0;34m.\u001b[0m\u001b[0mapply\u001b[0m\u001b[0;34m(\u001b[0m\u001b[0;32mlambda\u001b[0m \u001b[0mx\u001b[0m\u001b[0;34m:\u001b[0m \u001b[0mx\u001b[0m\u001b[0;34m.\u001b[0m\u001b[0mvalue_counts\u001b[0m\u001b[0;34m(\u001b[0m\u001b[0;34m)\u001b[0m\u001b[0;34m)\u001b[0m\u001b[0;34m)\u001b[0m\u001b[0;34m.\u001b[0m\u001b[0munstack\u001b[0m\u001b[0;34m(\u001b[0m\u001b[0;34m)\u001b[0m\u001b[0;34m\u001b[0m\u001b[0m\n\u001b[0m\u001b[1;32m     78\u001b[0m     \u001b[0maction_counts\u001b[0m\u001b[0;34m.\u001b[0m\u001b[0mcolumns\u001b[0m \u001b[0;34m=\u001b[0m \u001b[0maction_counts\u001b[0m\u001b[0;34m.\u001b[0m\u001b[0mcolumns\u001b[0m\u001b[0;34m.\u001b[0m\u001b[0mdroplevel\u001b[0m\u001b[0;34m(\u001b[0m\u001b[0;36m0\u001b[0m\u001b[0;34m)\u001b[0m\u001b[0;34m\u001b[0m\u001b[0m\n\u001b[1;32m     79\u001b[0m     \u001b[0maction_counts\u001b[0m \u001b[0;34m=\u001b[0m \u001b[0maction_counts\u001b[0m\u001b[0;34m.\u001b[0m\u001b[0madd_suffix\u001b[0m\u001b[0;34m(\u001b[0m\u001b[0;34m\"_count\"\u001b[0m\u001b[0;34m)\u001b[0m\u001b[0;34m\u001b[0m\u001b[0m\n",
      "\u001b[0;32m~/venv/lib/python3.5/site-packages/pandas/core/series.py\u001b[0m in \u001b[0;36mapply\u001b[0;34m(self, func, convert_dtype, args, **kwds)\u001b[0m\n\u001b[1;32m   3189\u001b[0m             \u001b[0;31m# row-wise access\u001b[0m\u001b[0;34m\u001b[0m\u001b[0;34m\u001b[0m\u001b[0m\n\u001b[1;32m   3190\u001b[0m             \u001b[0;32mif\u001b[0m \u001b[0mis_extension_type\u001b[0m\u001b[0;34m(\u001b[0m\u001b[0mself\u001b[0m\u001b[0;34m.\u001b[0m\u001b[0mdtype\u001b[0m\u001b[0;34m)\u001b[0m\u001b[0;34m:\u001b[0m\u001b[0;34m\u001b[0m\u001b[0m\n\u001b[0;32m-> 3191\u001b[0;31m                 \u001b[0mmapped\u001b[0m \u001b[0;34m=\u001b[0m \u001b[0mself\u001b[0m\u001b[0;34m.\u001b[0m\u001b[0m_values\u001b[0m\u001b[0;34m.\u001b[0m\u001b[0mmap\u001b[0m\u001b[0;34m(\u001b[0m\u001b[0mf\u001b[0m\u001b[0;34m)\u001b[0m\u001b[0;34m\u001b[0m\u001b[0m\n\u001b[0m\u001b[1;32m   3192\u001b[0m             \u001b[0;32melse\u001b[0m\u001b[0;34m:\u001b[0m\u001b[0;34m\u001b[0m\u001b[0m\n\u001b[1;32m   3193\u001b[0m                 \u001b[0mvalues\u001b[0m \u001b[0;34m=\u001b[0m \u001b[0mself\u001b[0m\u001b[0;34m.\u001b[0m\u001b[0mastype\u001b[0m\u001b[0;34m(\u001b[0m\u001b[0mobject\u001b[0m\u001b[0;34m)\u001b[0m\u001b[0;34m.\u001b[0m\u001b[0mvalues\u001b[0m\u001b[0;34m\u001b[0m\u001b[0m\n",
      "\u001b[0;32m~/venv/lib/python3.5/site-packages/pandas/core/arrays/categorical.py\u001b[0m in \u001b[0;36mmap\u001b[0;34m(self, mapper)\u001b[0m\n\u001b[1;32m   1189\u001b[0m         \u001b[0mIndex\u001b[0m\u001b[0;34m(\u001b[0m\u001b[0;34m[\u001b[0m\u001b[0;34m'first'\u001b[0m\u001b[0;34m,\u001b[0m \u001b[0;34m'second'\u001b[0m\u001b[0;34m,\u001b[0m \u001b[0mnan\u001b[0m\u001b[0;34m]\u001b[0m\u001b[0;34m,\u001b[0m \u001b[0mdtype\u001b[0m\u001b[0;34m=\u001b[0m\u001b[0;34m'object'\u001b[0m\u001b[0;34m)\u001b[0m\u001b[0;34m\u001b[0m\u001b[0m\n\u001b[1;32m   1190\u001b[0m         \"\"\"\n\u001b[0;32m-> 1191\u001b[0;31m         \u001b[0mnew_categories\u001b[0m \u001b[0;34m=\u001b[0m \u001b[0mself\u001b[0m\u001b[0;34m.\u001b[0m\u001b[0mcategories\u001b[0m\u001b[0;34m.\u001b[0m\u001b[0mmap\u001b[0m\u001b[0;34m(\u001b[0m\u001b[0mmapper\u001b[0m\u001b[0;34m)\u001b[0m\u001b[0;34m\u001b[0m\u001b[0m\n\u001b[0m\u001b[1;32m   1192\u001b[0m         \u001b[0;32mtry\u001b[0m\u001b[0;34m:\u001b[0m\u001b[0;34m\u001b[0m\u001b[0m\n\u001b[1;32m   1193\u001b[0m             return self.from_codes(self._codes.copy(),\n",
      "\u001b[0;32m~/venv/lib/python3.5/site-packages/pandas/core/indexes/base.py\u001b[0m in \u001b[0;36mmap\u001b[0;34m(self, mapper, na_action)\u001b[0m\n\u001b[1;32m   3447\u001b[0m         \u001b[0;32mfrom\u001b[0m \u001b[0;34m.\u001b[0m\u001b[0mmulti\u001b[0m \u001b[0;32mimport\u001b[0m \u001b[0mMultiIndex\u001b[0m\u001b[0;34m\u001b[0m\u001b[0m\n\u001b[1;32m   3448\u001b[0m         new_values = super(Index, self)._map_values(\n\u001b[0;32m-> 3449\u001b[0;31m             mapper, na_action=na_action)\n\u001b[0m\u001b[1;32m   3450\u001b[0m \u001b[0;34m\u001b[0m\u001b[0m\n\u001b[1;32m   3451\u001b[0m         \u001b[0mattributes\u001b[0m \u001b[0;34m=\u001b[0m \u001b[0mself\u001b[0m\u001b[0;34m.\u001b[0m\u001b[0m_get_attributes_dict\u001b[0m\u001b[0;34m(\u001b[0m\u001b[0;34m)\u001b[0m\u001b[0;34m\u001b[0m\u001b[0m\n",
      "\u001b[0;32m~/venv/lib/python3.5/site-packages/pandas/core/base.py\u001b[0m in \u001b[0;36m_map_values\u001b[0;34m(self, mapper, na_action)\u001b[0m\n\u001b[1;32m   1002\u001b[0m \u001b[0;34m\u001b[0m\u001b[0m\n\u001b[1;32m   1003\u001b[0m         \u001b[0;31m# mapper is a function\u001b[0m\u001b[0;34m\u001b[0m\u001b[0;34m\u001b[0m\u001b[0m\n\u001b[0;32m-> 1004\u001b[0;31m         \u001b[0mnew_values\u001b[0m \u001b[0;34m=\u001b[0m \u001b[0mmap_f\u001b[0m\u001b[0;34m(\u001b[0m\u001b[0mvalues\u001b[0m\u001b[0;34m,\u001b[0m \u001b[0mmapper\u001b[0m\u001b[0;34m)\u001b[0m\u001b[0;34m\u001b[0m\u001b[0m\n\u001b[0m\u001b[1;32m   1005\u001b[0m \u001b[0;34m\u001b[0m\u001b[0m\n\u001b[1;32m   1006\u001b[0m         \u001b[0;32mreturn\u001b[0m \u001b[0mnew_values\u001b[0m\u001b[0;34m\u001b[0m\u001b[0m\n",
      "\u001b[0;32mpandas/_libs/src/inference.pyx\u001b[0m in \u001b[0;36mpandas._libs.lib.map_infer\u001b[0;34m()\u001b[0m\n",
      "\u001b[0;32m<ipython-input-9-31e00afb9bba>\u001b[0m in \u001b[0;36m<lambda>\u001b[0;34m(x)\u001b[0m\n\u001b[1;32m     75\u001b[0m \u001b[0;34m\u001b[0m\u001b[0m\n\u001b[1;32m     76\u001b[0m \u001b[0;32mdef\u001b[0m \u001b[0msessionize\u001b[0m\u001b[0;34m(\u001b[0m\u001b[0mevents_df\u001b[0m\u001b[0;34m)\u001b[0m\u001b[0;34m:\u001b[0m\u001b[0;34m\u001b[0m\u001b[0m\n\u001b[0;32m---> 77\u001b[0;31m     \u001b[0maction_counts\u001b[0m \u001b[0;34m=\u001b[0m \u001b[0mpd\u001b[0m\u001b[0;34m.\u001b[0m\u001b[0mDataFrame\u001b[0m\u001b[0;34m(\u001b[0m\u001b[0mevents_df\u001b[0m\u001b[0;34m[\u001b[0m\u001b[0;34m\"action\"\u001b[0m\u001b[0;34m]\u001b[0m\u001b[0;34m.\u001b[0m\u001b[0mapply\u001b[0m\u001b[0;34m(\u001b[0m\u001b[0;32mlambda\u001b[0m \u001b[0mx\u001b[0m\u001b[0;34m:\u001b[0m \u001b[0mx\u001b[0m\u001b[0;34m.\u001b[0m\u001b[0mvalue_counts\u001b[0m\u001b[0;34m(\u001b[0m\u001b[0;34m)\u001b[0m\u001b[0;34m)\u001b[0m\u001b[0;34m)\u001b[0m\u001b[0;34m.\u001b[0m\u001b[0munstack\u001b[0m\u001b[0;34m(\u001b[0m\u001b[0;34m)\u001b[0m\u001b[0;34m\u001b[0m\u001b[0m\n\u001b[0m\u001b[1;32m     78\u001b[0m     \u001b[0maction_counts\u001b[0m\u001b[0;34m.\u001b[0m\u001b[0mcolumns\u001b[0m \u001b[0;34m=\u001b[0m \u001b[0maction_counts\u001b[0m\u001b[0;34m.\u001b[0m\u001b[0mcolumns\u001b[0m\u001b[0;34m.\u001b[0m\u001b[0mdroplevel\u001b[0m\u001b[0;34m(\u001b[0m\u001b[0;36m0\u001b[0m\u001b[0;34m)\u001b[0m\u001b[0;34m\u001b[0m\u001b[0m\n\u001b[1;32m     79\u001b[0m     \u001b[0maction_counts\u001b[0m \u001b[0;34m=\u001b[0m \u001b[0maction_counts\u001b[0m\u001b[0;34m.\u001b[0m\u001b[0madd_suffix\u001b[0m\u001b[0;34m(\u001b[0m\u001b[0;34m\"_count\"\u001b[0m\u001b[0;34m)\u001b[0m\u001b[0;34m\u001b[0m\u001b[0m\n",
      "\u001b[0;31mAttributeError\u001b[0m: 'str' object has no attribute 'value_counts'"
     ]
    }
   ],
   "source": [
    "\n",
    "aug_events.to_csv(\"data/aug_events.tsv\", sep=\"\\t\", index=False)\n",
    "may_events.to_csv(\"data/may_events.tsv\", sep=\"\\t\", index=False)"
   ]
  },
  {
   "cell_type": "markdown",
   "metadata": {},
   "source": [
    "And now for August."
   ]
  },
  {
   "cell_type": "markdown",
   "metadata": {},
   "source": [
    "# Group sessions in MariaDB"
   ]
  },
  {
   "cell_type": "code",
   "execution_count": 20,
   "metadata": {},
   "outputs": [],
   "source": [
    "sessions_q = \"\"\"\n",
    "select\n",
    "    group_concat(action order by timestamp separator \"-\") as actions,\n",
    "    min(edit_count) as edit_count,\n",
    "    group_concat(distinct editor separator \"-\") as editor,\n",
    "    group_concat(distinct platform separator \"-\") as platform,\n",
    "    group_concat(distinct user_class separator \"-\") as user_class,\n",
    "    sum(action = \"init\") as init_count,\n",
    "    sum(action = \"loaded\") as loaded_count,\n",
    "    sum(action = \"ready\") as ready_count,\n",
    "    sum(action = \"saveIntent\") as save_intent_count,\n",
    "    sum(action = \"saveAttempt\") as save_attempt_count,\n",
    "    sum(action = \"saveSuccess\") as save_success_count,\n",
    "    sum(action = \"abort\") as abort_count\n",
    "from (\n",
    "    select \n",
    "        event_editingSessionId as editing_session_id,\n",
    "        timestamp,\n",
    "        event_action as action,\n",
    "        `event_user.editCount` as edit_count,\n",
    "        event_editor as editor,\n",
    "        event_platform as platform,\n",
    "        `event_user.class` as user_class\n",
    "    from log.Edit_13457736\n",
    "    where timestamp between \"{start}\" and \"{end}\"\n",
    "    \n",
    "    union all\n",
    "    \n",
    "    select \n",
    "        event_editingSessionId as editing_session_id,\n",
    "        timestamp,\n",
    "        event_action as action,\n",
    "        `event_user.editCount` as edit_count,\n",
    "        event_editor as editor,\n",
    "        event_platform as platform,\n",
    "        `event_user.class` as user_class\n",
    "    from log.Edit_17541122\n",
    "    where timestamp between \"{start}\" and \"{end}\"\n",
    ") as events\n",
    "group by editing_session_id\n",
    "\"\"\""
   ]
  },
  {
   "cell_type": "code",
   "execution_count": 21,
   "metadata": {},
   "outputs": [],
   "source": [
    "may_sessions = mariadb.run(\n",
    "    sessions_q.format(start=\"201805\", end=\"201806\"),\n",
    "    host=\"logs\"\n",
    ")\n",
    "\n",
    "may_sessions.to_csv(\"data/may_sessions.tsv\", sep=\"\\t\")"
   ]
  },
  {
   "cell_type": "code",
   "execution_count": 22,
   "metadata": {},
   "outputs": [],
   "source": [
    "aug_sessions = mariadb.run(\n",
    "    sessions_q.format(start=\"201808\", end=\"201809\"),\n",
    "    host=\"logs\"\n",
    ")\n",
    "\n",
    "aug_sessions.to_csv(\"data/aug_sessions.tsv\", sep=\"\\t\")"
   ]
  }
 ],
 "metadata": {
  "kernelspec": {
   "display_name": "Python 3",
   "language": "python",
   "name": "python3"
  },
  "language_info": {
   "codemirror_mode": {
    "name": "ipython",
    "version": 3
   },
   "file_extension": ".py",
   "mimetype": "text/x-python",
   "name": "python",
   "nbconvert_exporter": "python",
   "pygments_lexer": "ipython3",
   "version": "3.5.3"
  }
 },
 "nbformat": 4,
 "nbformat_minor": 2
}
